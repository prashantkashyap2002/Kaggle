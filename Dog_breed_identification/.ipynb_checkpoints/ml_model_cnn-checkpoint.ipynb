{
 "cells": [
  {
   "cell_type": "markdown",
   "metadata": {},
   "source": [
    "# Dog Breed Identification:\n",
    "This is the project from Kaggle's dog-breed-identification competition.\n",
    "The data's are being used here from Kaggle's site provided for this competition. \n",
    "Downloded from \n",
    "https://www.kaggle.com/c/dog-breed-identification/data\n"
   ]
  },
  {
   "cell_type": "code",
   "execution_count": 1,
   "metadata": {},
   "outputs": [
    {
     "name": "stdout",
     "output_type": "stream",
     "text": [
      "Lib imported successfully\n"
     ]
    }
   ],
   "source": [
    "### Import all relevent lib\n",
    "import csv\n",
    "import numpy as np\n",
    "from PIL import Image\n",
    "import os, os.path\n",
    "import glob\n",
    "import matplotlib.pyplot as plt\n",
    "from sklearn.preprocessing import LabelEncoder\n",
    "from sklearn.preprocessing import OneHotEncoder\n",
    "from sklearn.model_selection import train_test_split\n",
    "import helper\n",
    "import math\n",
    "import tensorflow as tf\n",
    "from numpy import prod\n",
    "from tqdm import tqdm\n",
    "import pandas as pd\n",
    "\n",
    "### Dir\n",
    "#LABELS = 'data/labels.csv'\n",
    "#DATA_FILE = 'data/data.csv'\n",
    "#TRAIN_IMAGE_DIR = 'data/train/'\n",
    "#TEST_IMAGE_DIR = 'data/test/'\n",
    "#IMAGE_SIZE = 32,32\n",
    "CHANNEL = 3\n",
    "SIZE = 64\n",
    "#PIXEL_DEPTH = 255\n",
    "labels_count = 120\n",
    "# Model save path\n",
    "save_model_path = './dog_breed_recognition'\n",
    "\n",
    "# Change if have a memory restrictions\n",
    "batch_size = 2048\n",
    "# TODO: Find the best parameters for each configuration\n",
    "epochs = 3\n",
    "keep_probability = 1\n",
    "\n",
    "print ('Lib imported successfully')\n"
   ]
  },
  {
   "cell_type": "code",
   "execution_count": 2,
   "metadata": {},
   "outputs": [
    {
     "data": {
      "text/plain": [
       "(10222,)"
      ]
     },
     "metadata": {},
     "output_type": "display_data"
    },
    {
     "name": "stdout",
     "output_type": "stream",
     "text": [
      "[ 0.  0.  0.  0.  0.  0.  0.  0.  0.  0.  0.  0.  0.  0.  0.  0.  0.  0.\n",
      "  0.  1.  0.  0.  0.  0.  0.  0.  0.  0.  0.  0.  0.  0.  0.  0.  0.  0.\n",
      "  0.  0.  0.  0.  0.  0.  0.  0.  0.  0.  0.  0.  0.  0.  0.  0.  0.  0.\n",
      "  0.  0.  0.  0.  0.  0.  0.  0.  0.  0.  0.  0.  0.  0.  0.  0.  0.  0.\n",
      "  0.  0.  0.  0.  0.  0.  0.  0.  0.  0.  0.  0.  0.  0.  0.  0.  0.  0.\n",
      "  0.  0.  0.  0.  0.  0.  0.  0.  0.  0.  0.  0.  0.  0.  0.  0.  0.  0.\n",
      "  0.  0.  0.  0.  0.  0.  0.  0.  0.  0.  0.  0.]\n"
     ]
    },
    {
     "data": {
      "text/plain": [
       "(10222, 120)"
      ]
     },
     "metadata": {},
     "output_type": "display_data"
    }
   ],
   "source": [
    "train_features, train_labels, valid_features, valid_labels, test_features, test_labels, label_dict = helper.get_train_cv_test_data()"
   ]
  },
  {
   "cell_type": "code",
   "execution_count": 3,
   "metadata": {},
   "outputs": [
    {
     "data": {
      "text/plain": [
       "(9107, 64, 64, 3)"
      ]
     },
     "metadata": {},
     "output_type": "display_data"
    },
    {
     "data": {
      "text/plain": [
       "(9107, 120)"
      ]
     },
     "metadata": {},
     "output_type": "display_data"
    },
    {
     "data": {
      "text/plain": [
       "(1012, 64, 64, 3)"
      ]
     },
     "metadata": {},
     "output_type": "display_data"
    },
    {
     "data": {
      "text/plain": [
       "(1012, 120)"
      ]
     },
     "metadata": {},
     "output_type": "display_data"
    },
    {
     "data": {
      "text/plain": [
       "(103, 64, 64, 3)"
      ]
     },
     "metadata": {},
     "output_type": "display_data"
    },
    {
     "data": {
      "text/plain": [
       "(103, 120)"
      ]
     },
     "metadata": {},
     "output_type": "display_data"
    },
    {
     "data": {
      "text/plain": [
       "{'affenpinscher': 0,\n",
       " 'afghan_hound': 1,\n",
       " 'african_hunting_dog': 2,\n",
       " 'airedale': 3,\n",
       " 'american_staffordshire_terrier': 4,\n",
       " 'appenzeller': 5,\n",
       " 'australian_terrier': 6,\n",
       " 'basenji': 7,\n",
       " 'basset': 8,\n",
       " 'beagle': 9,\n",
       " 'bedlington_terrier': 10,\n",
       " 'bernese_mountain_dog': 11,\n",
       " 'black-and-tan_coonhound': 12,\n",
       " 'blenheim_spaniel': 13,\n",
       " 'bloodhound': 14,\n",
       " 'bluetick': 15,\n",
       " 'border_collie': 16,\n",
       " 'border_terrier': 17,\n",
       " 'borzoi': 18,\n",
       " 'boston_bull': 19,\n",
       " 'bouvier_des_flandres': 20,\n",
       " 'boxer': 21,\n",
       " 'brabancon_griffon': 22,\n",
       " 'briard': 23,\n",
       " 'brittany_spaniel': 24,\n",
       " 'bull_mastiff': 25,\n",
       " 'cairn': 26,\n",
       " 'cardigan': 27,\n",
       " 'chesapeake_bay_retriever': 28,\n",
       " 'chihuahua': 29,\n",
       " 'chow': 30,\n",
       " 'clumber': 31,\n",
       " 'cocker_spaniel': 32,\n",
       " 'collie': 33,\n",
       " 'curly-coated_retriever': 34,\n",
       " 'dandie_dinmont': 35,\n",
       " 'dhole': 36,\n",
       " 'dingo': 37,\n",
       " 'doberman': 38,\n",
       " 'english_foxhound': 39,\n",
       " 'english_setter': 40,\n",
       " 'english_springer': 41,\n",
       " 'entlebucher': 42,\n",
       " 'eskimo_dog': 43,\n",
       " 'flat-coated_retriever': 44,\n",
       " 'french_bulldog': 45,\n",
       " 'german_shepherd': 46,\n",
       " 'german_short-haired_pointer': 47,\n",
       " 'giant_schnauzer': 48,\n",
       " 'golden_retriever': 49,\n",
       " 'gordon_setter': 50,\n",
       " 'great_dane': 51,\n",
       " 'great_pyrenees': 52,\n",
       " 'greater_swiss_mountain_dog': 53,\n",
       " 'groenendael': 54,\n",
       " 'ibizan_hound': 55,\n",
       " 'irish_setter': 56,\n",
       " 'irish_terrier': 57,\n",
       " 'irish_water_spaniel': 58,\n",
       " 'irish_wolfhound': 59,\n",
       " 'italian_greyhound': 60,\n",
       " 'japanese_spaniel': 61,\n",
       " 'keeshond': 62,\n",
       " 'kelpie': 63,\n",
       " 'kerry_blue_terrier': 64,\n",
       " 'komondor': 65,\n",
       " 'kuvasz': 66,\n",
       " 'labrador_retriever': 67,\n",
       " 'lakeland_terrier': 68,\n",
       " 'leonberg': 69,\n",
       " 'lhasa': 70,\n",
       " 'malamute': 71,\n",
       " 'malinois': 72,\n",
       " 'maltese_dog': 73,\n",
       " 'mexican_hairless': 74,\n",
       " 'miniature_pinscher': 75,\n",
       " 'miniature_poodle': 76,\n",
       " 'miniature_schnauzer': 77,\n",
       " 'newfoundland': 78,\n",
       " 'norfolk_terrier': 79,\n",
       " 'norwegian_elkhound': 80,\n",
       " 'norwich_terrier': 81,\n",
       " 'old_english_sheepdog': 82,\n",
       " 'otterhound': 83,\n",
       " 'papillon': 84,\n",
       " 'pekinese': 85,\n",
       " 'pembroke': 86,\n",
       " 'pomeranian': 87,\n",
       " 'pug': 88,\n",
       " 'redbone': 89,\n",
       " 'rhodesian_ridgeback': 90,\n",
       " 'rottweiler': 91,\n",
       " 'saint_bernard': 92,\n",
       " 'saluki': 93,\n",
       " 'samoyed': 94,\n",
       " 'schipperke': 95,\n",
       " 'scotch_terrier': 96,\n",
       " 'scottish_deerhound': 97,\n",
       " 'sealyham_terrier': 98,\n",
       " 'shetland_sheepdog': 99,\n",
       " 'shih-tzu': 100,\n",
       " 'siberian_husky': 101,\n",
       " 'silky_terrier': 102,\n",
       " 'soft-coated_wheaten_terrier': 103,\n",
       " 'staffordshire_bullterrier': 104,\n",
       " 'standard_poodle': 105,\n",
       " 'standard_schnauzer': 106,\n",
       " 'sussex_spaniel': 107,\n",
       " 'tibetan_mastiff': 108,\n",
       " 'tibetan_terrier': 109,\n",
       " 'toy_poodle': 110,\n",
       " 'toy_terrier': 111,\n",
       " 'vizsla': 112,\n",
       " 'walker_hound': 113,\n",
       " 'weimaraner': 114,\n",
       " 'welsh_springer_spaniel': 115,\n",
       " 'west_highland_white_terrier': 116,\n",
       " 'whippet': 117,\n",
       " 'wire-haired_fox_terrier': 118,\n",
       " 'yorkshire_terrier': 119}"
      ]
     },
     "metadata": {},
     "output_type": "display_data"
    }
   ],
   "source": [
    "display(train_features.shape, train_labels.shape, valid_features.shape, valid_labels.shape, test_features.shape, test_labels.shape, label_dict)"
   ]
  },
  {
   "cell_type": "code",
   "execution_count": 4,
   "metadata": {
    "collapsed": true
   },
   "outputs": [],
   "source": [
    "### CNN Model\n",
    "def conv_maxpool(x_tensor, conv_num_outputs, conv_ksize, conv_strides, pool_ksize, pool_strides):\n",
    "    \"\"\"\n",
    "    Apply convolution then max pooling to x_tensor\n",
    "    :param x_tensor: TensorFlow Tensor\n",
    "    :param conv_num_outputs: Number of outputs for the convolutional layer\n",
    "    :param conv_ksize: kernal size 2-D Tuple for the convolutional layer\n",
    "    :param conv_strides: Stride 2-D Tuple for convolution\n",
    "    :param pool_ksize: kernal size 2-D Tuple for pool\n",
    "    :param pool_strides: Stride 2-D Tuple for pool\n",
    "    : return: A tensor that represents convolution and max pooling of x_tensor\n",
    "    \"\"\"\n",
    "    dimension = x_tensor.get_shape().as_list()\n",
    "    shape = list(conv_ksize + (dimension[-1],) + (conv_num_outputs,))\n",
    "    #print(shape)\n",
    "    filter_weights = tf.Variable(tf.truncated_normal(shape,0,0.1)) # (height, width, input_depth, output_depth)\n",
    "    filter_bias = tf.Variable(tf.zeros(conv_num_outputs))\n",
    "    padding = 'SAME'\n",
    "    #print(list((1,)+conv_strides+(1,)))\n",
    "    #print(filter_weights)\n",
    "    conv_layer = tf.nn.conv2d(x_tensor, filter_weights, list((1,)+conv_strides+(1,)), padding)\n",
    "    conv_layer = tf.nn.bias_add(conv_layer, filter_bias)\n",
    "    \n",
    "    conv_layer = tf.nn.relu(conv_layer)\n",
    "    \n",
    "    conv_layer = tf.nn.max_pool(\n",
    "        conv_layer,\n",
    "        ksize=[1] + list(pool_ksize) + [1],\n",
    "        strides=[1] + list(pool_strides) + [1],\n",
    "        padding='SAME')\n",
    "    \n",
    "    return conv_layer\n",
    "\n",
    "def flatten_image(x_tensor):\n",
    "    \"\"\"\n",
    "    Flatten x_tensor to (Batch Size, Flattened Image Size)\n",
    "    : x_tensor: A tensor of size (Batch Size, ...), where ... are the image dimensions.\n",
    "    : return: A tensor of size (Batch Size, Flattened Image Size).\n",
    "    \"\"\"\n",
    "    dimension = x_tensor.get_shape().as_list()  \n",
    "    print(dimension)\n",
    "    x =  tf.reshape(x_tensor,[-1,prod(dimension[1:])])\n",
    "    print(x.get_shape().as_list())\n",
    "    return x\n",
    "\n",
    "def fully_connected(x_tensor, num_outputs):\n",
    "    \"\"\"\n",
    "    Apply a fully connected layer to x_tensor using weight and bias\n",
    "    : x_tensor: A 2-D tensor where the first dimension is batch size.\n",
    "    : num_outputs: The number of output that the new tensor should be.\n",
    "    : return: A 2-D tensor where the second dimension is num_outputs.\n",
    "    \"\"\"\n",
    "    dimension = x_tensor.get_shape().as_list()\n",
    "    shape = list( (dimension[-1],) + (num_outputs,))\n",
    "    print(x_tensor.get_shape())\n",
    "    weight = tf.Variable(tf.truncated_normal(shape,0,0.1))\n",
    "    bias = tf.Variable(tf.zeros(num_outputs))\n",
    "    return tf.nn.relu(tf.add(tf.matmul(x_tensor,weight), bias))\n",
    "\n",
    "\n",
    "def output(x_tensor, num_outputs):\n",
    "    \"\"\"\n",
    "    Apply a output layer to x_tensor using weight and bias\n",
    "    : x_tensor: A 2-D tensor where the first dimension is batch size.\n",
    "    : num_outputs: The number of output that the new tensor should be.\n",
    "    : return: A 2-D tensor where the second dimension is num_outputs.\n",
    "    \"\"\"\n",
    "    # TODO: Implement Function\n",
    "    dimension = x_tensor.get_shape().as_list()\n",
    "    shape = list( (dimension[-1],) + (num_outputs,))\n",
    "    print(shape)\n",
    "    weight = tf.Variable(tf.truncated_normal(shape,0,0.01))\n",
    "    bias = tf.Variable(tf.zeros(num_outputs))\n",
    "\n",
    "    return tf.add(tf.matmul(x_tensor,weight), bias)"
   ]
  },
  {
   "cell_type": "code",
   "execution_count": 5,
   "metadata": {
    "collapsed": true
   },
   "outputs": [],
   "source": [
    "def convolutional_net(x, keep_prob):\n",
    "    \"\"\"\n",
    "    Create a convolutional neural network model\n",
    "    : x: Placeholder tensor that holds image data.\n",
    "    : keep_prob: Placeholder tensor that hold dropout keep probability.\n",
    "    : return: Tensor model that represents logits.\n",
    "    \"\"\"\n",
    "    #    Play around with different number of outputs, kernel size and stride\n",
    "    # Function Definition from Above:\n",
    "    model = conv_maxpool(x, conv_num_outputs=36, conv_ksize=(4,4), conv_strides=(1,1), pool_ksize=(2,2), pool_strides=(1,1))\n",
    "    model = tf.nn.dropout(model, keep_prob)    \n",
    "\n",
    "    model = flatten_image(model)\n",
    "    #    Play around with different number of outputs\n",
    "    model = fully_connected(model,20)\n",
    "    \n",
    "    model = tf.nn.dropout(model, keep_prob)\n",
    "    \n",
    "    #    Set this to the number of classes\n",
    "    #   output(x_tensor, num_outputs)\n",
    "    model = output(model,labels_count)\n",
    "    return model\n",
    "\n",
    "##############################\n",
    "## Build the Neural Network ##\n",
    "##############################\n",
    "def cnn_model():\n",
    "    \"\"\"\n",
    "    return: features, labels, keep_prob, logits, cost, accuracy, optimizer of \n",
    "              convolutinal neural network model\n",
    "    \"\"\"\n",
    "    # Remove previous weights, bias, inputs, etc..\n",
    "    tf.reset_default_graph()\n",
    "    # Inputs\n",
    "    image_shape = (SIZE,SIZE,CHANNEL)\n",
    "    features = tf.placeholder(tf.float32, [None] + list(image_shape), name=\"features\")\n",
    "    labels = tf.placeholder(tf.float32, (None, labels_count), name=\"label\")\n",
    "    keep_prob = tf.placeholder(tf.float32, name=\"keep_probability\")\n",
    "\n",
    "    # Model\n",
    "    logits = convolutional_net(features, keep_prob)\n",
    "\n",
    "    # Name logits Tensor, so that is can be loaded from disk after training\n",
    "    logits = tf.identity(logits, name='logits')\n",
    "\n",
    "    # Loss and Optimizer\n",
    "    cost = tf.reduce_mean(tf.nn.softmax_cross_entropy_with_logits(logits=logits, labels=labels))\n",
    "    optimizer = tf.train.AdamOptimizer().minimize(cost)\n",
    "\n",
    "    # Accuracy\n",
    "    correct_pred = tf.equal(tf.argmax(logits, 1), tf.argmax(labels, 1))\n",
    "    accuracy = tf.reduce_mean(tf.cast(correct_pred, tf.float32), name='accuracy')\n",
    "    \n",
    "    return features, labels, keep_prob, logits, cost, accuracy, optimizer\n"
   ]
  },
  {
   "cell_type": "code",
   "execution_count": 6,
   "metadata": {
    "collapsed": true
   },
   "outputs": [],
   "source": [
    "def show_stats(session, feature_batch, label_batch, cost, accuracy, features, labels, keep_prob):\n",
    "    \"\"\"\n",
    "    show information about loss and validation accuracy\n",
    "    : session: Current TensorFlow session\n",
    "    : feature_batch: Batch of Numpy image data\n",
    "    : label_batch: Batch of Numpy label data\n",
    "    : cost: TensorFlow cost function\n",
    "    : accuracy: TensorFlow accuracy function\n",
    "    : features: placeholder for features\n",
    "    : labels: placeholder for labels\n",
    "    : keel_prob: placeholder for keep_probability\n",
    "    \"\"\"\n",
    "    #features, labels, keep_prob, logits, cost, accuracy, optimizer = cnn_model()\n",
    "    loss = session.run(cost, feed_dict={features:feature_batch, labels:label_batch, keep_prob:1.0})\n",
    "    valid_acc = session.run(accuracy, feed_dict={\n",
    "                features: valid_features,\n",
    "                labels: valid_labels,\n",
    "                keep_prob: 1.})\n",
    "    print('Loss: {:>10.4f} Validation Accuracy: {:.6f}'.format(\n",
    "                loss,\n",
    "                valid_acc))"
   ]
  },
  {
   "cell_type": "code",
   "execution_count": 7,
   "metadata": {
    "collapsed": true
   },
   "outputs": [],
   "source": [
    "def train_model():\n",
    "    validation_accuracy = 0.0\n",
    "    log_batch_step = 10\n",
    "    batches = []\n",
    "    loss_batch = []\n",
    "    train_acc_batch = []\n",
    "    valid_acc_batch = []\n",
    "    \n",
    "    features, labels, keep_prob, logits, cost, accuracy, optimizer = cnn_model()\n",
    "\n",
    "    # Feed dicts for training, validation\n",
    "    train_feed_dict = {features: train_features, labels: train_labels, keep_prob:keep_probability}\n",
    "    valid_feed_dict = {features: valid_features, labels: valid_labels, keep_prob:keep_probability}\n",
    " \n",
    "    with tf.Session() as sess:\n",
    "        # Initializing the variables\n",
    "        sess.run(tf.global_variables_initializer())\n",
    "        batch_count = int(math.ceil(len(train_features)/batch_size))\n",
    "        # Training cycle\n",
    "        for epoch_i in range(epochs):\n",
    "            avg_cost = 0\n",
    "            # Progress bar\n",
    "            batches_pbar = tqdm(range(batch_count), desc='Epoch {:>2}/{}'.format(epoch_i+1, epochs), unit='batches')\n",
    "            # display((batch_count))\n",
    "            # The training cycle\n",
    "            for batch_i in batches_pbar:\n",
    "                # Get a batch of training features and labels\n",
    "                batch_start = batch_i*batch_size\n",
    "                batch_features = train_features[batch_start:batch_start + batch_size]\n",
    "                batch_labels = train_labels[batch_start:batch_start + batch_size]\n",
    "                # Run optimizer and get loss\n",
    "                _, l = sess.run(\n",
    "                        [optimizer, cost],\n",
    "                        feed_dict={features: batch_features, labels: batch_labels, keep_prob: keep_probability})\n",
    "                show_stats(sess, batch_features, batch_labels, \n",
    "                            cost, accuracy, features, labels, keep_prob)\n",
    "                  \n",
    "                avg_cost += l / batch_size\n",
    "                        \n",
    "                # Log every 50 batches\n",
    "                if not batch_i % log_batch_step:\n",
    "                    # Calculate Training and Validation accuracy\n",
    "                    training_accuracy = sess.run(accuracy, feed_dict=train_feed_dict)\n",
    "                    validation_accuracy = sess.run(accuracy, feed_dict=valid_feed_dict)\n",
    "                    # Log batches\n",
    "                    previous_batch = batches[-1] if batches else 0\n",
    "                    batches.append(log_batch_step + previous_batch)\n",
    "                    loss_batch.append(l)\n",
    "                    train_acc_batch.append(training_accuracy)\n",
    "                    valid_acc_batch.append(validation_accuracy)\n",
    "            print (\"Epoch:\", (epoch_i+1), \"cost =\", \"{:.5f}\".format(avg_cost))\n",
    "            # Check accuracy against Validation data\n",
    "            validation_accuracy = sess.run(accuracy, feed_dict=valid_feed_dict)\n",
    "            print('Validation accuracy at {}'.format(validation_accuracy))\n",
    "\n",
    "        # Save Model\n",
    "        saver = tf.train.Saver()\n",
    "        save_path = saver.save(sess, save_model_path)\n",
    "\n",
    "    # plot the cost and validation accuracy\n",
    "    loss_plot = plt.subplot(211)\n",
    "    loss_plot.set_title('Loss')\n",
    "    loss_plot.plot(batches, loss_batch, 'g')\n",
    "    loss_plot.set_xlim([batches[0], batches[-1]])\n",
    "    acc_plot = plt.subplot(212)\n",
    "    acc_plot.set_title('Accuracy')\n",
    "    acc_plot.plot(batches, train_acc_batch, 'r', label='Training Accuracy')\n",
    "    acc_plot.plot(batches, valid_acc_batch, 'x', label='Validation Accuracy')\n",
    "    acc_plot.set_ylim([0, 1.0])\n",
    "    acc_plot.set_xlim([batches[0], batches[-1]])\n",
    "    acc_plot.legend(loc=4)\n",
    "    plt.tight_layout()\n",
    "    plt.show()\n"
   ]
  },
  {
   "cell_type": "code",
   "execution_count": 9,
   "metadata": {},
   "outputs": [
    {
     "name": "stdout",
     "output_type": "stream",
     "text": [
      "[None, 64, 64, 36]\n",
      "[None, 147456]\n",
      "(?, 147456)\n",
      "[20, 120]\n"
     ]
    },
    {
     "name": "stderr",
     "output_type": "stream",
     "text": [
      "\n",
      "Epoch  1/3:   0%|                                   | 0/5 [00:00<?, ?batches/s]"
     ]
    },
    {
     "name": "stdout",
     "output_type": "stream",
     "text": [
      "Loss:     4.7873 Validation Accuracy: 0.008893\n"
     ]
    },
    {
     "name": "stderr",
     "output_type": "stream",
     "text": [
      "\n",
      "Epoch  1/3:  20%|█████▏                    | 1/5 [04:10<16:42, 250.56s/batches]"
     ]
    },
    {
     "name": "stdout",
     "output_type": "stream",
     "text": [
      "Loss:     4.7873 Validation Accuracy: 0.003953\n"
     ]
    },
    {
     "name": "stderr",
     "output_type": "stream",
     "text": [
      "\n",
      "Epoch  1/3:  40%|██████████▍               | 2/5 [05:31<08:16, 165.64s/batches]"
     ]
    },
    {
     "name": "stdout",
     "output_type": "stream",
     "text": [
      "Loss:     4.7872 Validation Accuracy: 0.004941\n"
     ]
    },
    {
     "name": "stderr",
     "output_type": "stream",
     "text": [
      "\n",
      "Epoch  1/3:  60%|███████████████▌          | 3/5 [06:50<04:33, 136.72s/batches]"
     ]
    },
    {
     "name": "stdout",
     "output_type": "stream",
     "text": [
      "Loss:     4.7872 Validation Accuracy: 0.011858\n"
     ]
    },
    {
     "name": "stderr",
     "output_type": "stream",
     "text": [
      "\n",
      "Epoch  1/3:  80%|████████████████████▊     | 4/5 [08:04<02:01, 121.23s/batches]"
     ]
    },
    {
     "name": "stdout",
     "output_type": "stream",
     "text": [
      "Loss:     4.7871 Validation Accuracy: 0.011858\n"
     ]
    },
    {
     "name": "stderr",
     "output_type": "stream",
     "text": [
      "\n",
      "Epoch  1/3: 100%|██████████████████████████| 5/5 [08:38<00:00, 103.64s/batches]\n"
     ]
    },
    {
     "name": "stdout",
     "output_type": "stream",
     "text": [
      "Epoch: 1 cost = 0.01169\n",
      "Validation accuracy at 0.011857707053422928\n"
     ]
    },
    {
     "name": "stderr",
     "output_type": "stream",
     "text": [
      "\n",
      "Epoch  2/3:   0%|                                   | 0/5 [00:00<?, ?batches/s]"
     ]
    },
    {
     "name": "stdout",
     "output_type": "stream",
     "text": [
      "Loss:     4.7868 Validation Accuracy: 0.011858\n"
     ]
    },
    {
     "name": "stderr",
     "output_type": "stream",
     "text": [
      "\n",
      "Epoch  2/3:  20%|█████▏                    | 1/5 [04:21<17:24, 261.25s/batches]"
     ]
    },
    {
     "name": "stdout",
     "output_type": "stream",
     "text": [
      "Loss:     4.7869 Validation Accuracy: 0.011858\n"
     ]
    },
    {
     "name": "stderr",
     "output_type": "stream",
     "text": [
      "\n",
      "Epoch  2/3:  40%|██████████▍               | 2/5 [05:36<08:24, 168.15s/batches]"
     ]
    },
    {
     "name": "stdout",
     "output_type": "stream",
     "text": [
      "Loss:     4.7868 Validation Accuracy: 0.011858\n"
     ]
    },
    {
     "name": "stderr",
     "output_type": "stream",
     "text": [
      "\n",
      "Epoch  2/3:  60%|███████████████▌          | 3/5 [06:55<04:36, 138.49s/batches]"
     ]
    },
    {
     "name": "stdout",
     "output_type": "stream",
     "text": [
      "Loss:     4.7868 Validation Accuracy: 0.011858\n"
     ]
    },
    {
     "name": "stderr",
     "output_type": "stream",
     "text": [
      "\n",
      "Epoch  2/3:  80%|████████████████████▊     | 4/5 [08:13<02:03, 123.44s/batches]"
     ]
    },
    {
     "name": "stdout",
     "output_type": "stream",
     "text": [
      "Loss:     4.7865 Validation Accuracy: 0.011858\n"
     ]
    },
    {
     "name": "stderr",
     "output_type": "stream",
     "text": [
      "\n",
      "Epoch  2/3: 100%|██████████████████████████| 5/5 [08:47<00:00, 105.41s/batches]\n"
     ]
    },
    {
     "name": "stdout",
     "output_type": "stream",
     "text": [
      "Epoch: 2 cost = 0.01169\n",
      "Validation accuracy at 0.011857707053422928\n"
     ]
    },
    {
     "name": "stderr",
     "output_type": "stream",
     "text": [
      "\n",
      "Epoch  3/3:   0%|                                   | 0/5 [00:00<?, ?batches/s]"
     ]
    },
    {
     "name": "stdout",
     "output_type": "stream",
     "text": [
      "Loss:     4.7864 Validation Accuracy: 0.011858\n"
     ]
    },
    {
     "name": "stderr",
     "output_type": "stream",
     "text": [
      "\n",
      "Epoch  3/3:  20%|█████▏                    | 1/5 [05:32<22:10, 332.54s/batches]"
     ]
    },
    {
     "name": "stdout",
     "output_type": "stream",
     "text": [
      "Loss:     4.7865 Validation Accuracy: 0.011858\n"
     ]
    },
    {
     "name": "stderr",
     "output_type": "stream",
     "text": [
      "\n",
      "Epoch  3/3:  40%|██████████▍               | 2/5 [06:39<09:59, 199.71s/batches]"
     ]
    },
    {
     "name": "stdout",
     "output_type": "stream",
     "text": [
      "Loss:     4.7865 Validation Accuracy: 0.011858\n"
     ]
    },
    {
     "name": "stderr",
     "output_type": "stream",
     "text": [
      "\n",
      "Epoch  3/3:  60%|███████████████▌          | 3/5 [07:56<05:17, 158.96s/batches]"
     ]
    },
    {
     "name": "stdout",
     "output_type": "stream",
     "text": [
      "Loss:     4.7864 Validation Accuracy: 0.011858\n"
     ]
    },
    {
     "name": "stderr",
     "output_type": "stream",
     "text": [
      "\n",
      "Epoch  3/3:  80%|████████████████████▊     | 4/5 [09:12<02:18, 138.00s/batches]"
     ]
    },
    {
     "name": "stdout",
     "output_type": "stream",
     "text": [
      "Loss:     4.7859 Validation Accuracy: 0.007905\n"
     ]
    },
    {
     "name": "stderr",
     "output_type": "stream",
     "text": [
      "\n",
      "Epoch  3/3: 100%|██████████████████████████| 5/5 [09:42<00:00, 116.52s/batches]\n"
     ]
    },
    {
     "name": "stdout",
     "output_type": "stream",
     "text": [
      "Epoch: 3 cost = 0.01169\n",
      "Validation accuracy at 0.007905138656497002\n"
     ]
    },
    {
     "data": {
      "image/png": "[encoded data removed]",
      "text/plain": [
       "<matplotlib.figure.Figure at 0x1a42f624dd8>"
      ]
     },
     "metadata": {},
     "output_type": "display_data"
    }
   ],
   "source": [
    "train_model()"
   ]
  },
  {
   "cell_type": "code",
   "execution_count": 12,
   "metadata": {
    "collapsed": true
   },
   "outputs": [],
   "source": [
    "def test_model():\n",
    "    \"\"\"\n",
    "    Test the saved model against the test dataset\n",
    "    \"\"\"\n",
    "    loaded_graph = tf.Graph()\n",
    "\n",
    "    with tf.Session(graph=loaded_graph) as sess:\n",
    "        # Load model\n",
    "        loader = tf.train.import_meta_graph(save_model_path + '.meta')\n",
    "        loader.restore(sess, save_model_path)\n",
    "\n",
    "        # Get Tensors from loaded model\n",
    "        loaded_x = loaded_graph.get_tensor_by_name('features:0')\n",
    "        loaded_y = loaded_graph.get_tensor_by_name('label:0')\n",
    "        loaded_keep_prob = loaded_graph.get_tensor_by_name('keep_probability:0')\n",
    "        loaded_logits = loaded_graph.get_tensor_by_name('logits:0')\n",
    "        loaded_acc = loaded_graph.get_tensor_by_name('accuracy:0')\n",
    "        \n",
    "        test_accuracy = sess.run(loaded_acc, feed_dict={loaded_x: test_features, loaded_y: test_labels, loaded_keep_prob: 1.0})\n",
    "        \n",
    "        print('Test Accuracy is {}'.format(test_accuracy))"
   ]
  },
  {
   "cell_type": "code",
   "execution_count": 13,
   "metadata": {},
   "outputs": [
    {
     "name": "stdout",
     "output_type": "stream",
     "text": [
      "INFO:tensorflow:Restoring parameters from ./dog_breed_recognition\n",
      "Test Accuracy is 0.009708737954497337\n"
     ]
    }
   ],
   "source": [
    "test_model()"
   ]
  },
  {
   "cell_type": "code",
   "execution_count": null,
   "metadata": {},
   "outputs": [
    {
     "name": "stderr",
     "output_type": "stream",
     "text": [
      "\n",
      "  0%|                                                | 0/10357 [00:00<?, ?it/s]\n",
      "  0%|                                      | 1/10357 [00:00<1:52:25,  1.54it/s]\n",
      "  0%|                                        | 3/10357 [00:00<46:35,  3.70it/s]\n",
      "  0%|                                        | 4/10357 [00:00<40:42,  4.24it/s]\n",
      "  0%|                                        | 5/10357 [00:01<38:06,  4.53it/s]\n",
      "  0%|                                        | 7/10357 [00:01<33:04,  5.22it/s]\n",
      "  0%|                                        | 8/10357 [00:01<31:49,  5.42it/s]\n",
      "  0%|                                       | 10/10357 [00:01<28:53,  5.97it/s]\n",
      "  0%|                                       | 12/10357 [00:01<28:36,  6.03it/s]\n",
      "  0%|                                       | 13/10357 [00:02<27:59,  6.16it/s]\n",
      "  0%|                                       | 15/10357 [00:02<25:39,  6.72it/s]\n",
      "  0%|                                       | 17/10357 [00:02<23:54,  7.21it/s]\n",
      "  0%|                                       | 19/10357 [00:02<22:20,  7.71it/s]\n",
      "  0%|                                       | 23/10357 [00:02<20:04,  8.58it/s]\n",
      "  0%|                                       | 25/10357 [00:02<19:10,  8.98it/s]\n",
      "  0%|                                       | 27/10357 [00:02<18:23,  9.36it/s]\n",
      "  0%|                                       | 29/10357 [00:03<17:48,  9.66it/s]\n",
      "  0%|                                       | 31/10357 [00:03<18:28,  9.31it/s]\n",
      "  0%|▏                                      | 34/10357 [00:03<17:23,  9.89it/s]\n",
      "  0%|▏                                      | 36/10357 [00:03<18:39,  9.22it/s]Exception in thread Thread-7:\n",
      "Traceback (most recent call last):\n",
      "  File \"D:\\Software\\Software\\Anaconda3\\lib\\threading.py\", line 916, in _bootstrap_inner\n",
      "    self.run()\n",
      "  File \"D:\\Software\\Software\\Anaconda3\\lib\\site-packages\\tqdm\\_tqdm.py\", line 144, in run\n",
      "    for instance in self.tqdm_cls._instances:\n",
      "  File \"D:\\Software\\Software\\Anaconda3\\lib\\_weakrefset.py\", line 60, in __iter__\n",
      "    for itemref in self.data:\n",
      "RuntimeError: Set changed size during iteration\n",
      "\n",
      " 11%|████                                 | 1122/10357 [01:13<10:02, 15.33it/s]"
     ]
    }
   ],
   "source": [
    "from scipy.misc import imresize, imread\n",
    "df_test = pd.read_csv('./data/sample_submission.csv')\n",
    "NUMBER_TEST = len(df_test)\n",
    "X_test = np.zeros((NUMBER_TEST, SIZE, SIZE, 3), dtype=np.uint8)\n",
    "for i in tqdm(range(NUMBER_TEST)):\n",
    "    X_test[i] = imresize(imread('./data/test/%s.jpg' % df_test['id'][i]), (SIZE, SIZE)) "
   ]
  },
  {
   "cell_type": "code",
   "execution_count": null,
   "metadata": {},
   "outputs": [],
   "source": [
    "df = pd.read_csv('./data/labels.csv')\n",
    "df.head()\n",
    "\n",
    "n = len(df)\n",
    "breed = set(df['breed'])\n",
    "n_class = len(breed)\n",
    "class_to_num = dict(zip(breed, range(n_class)))\n",
    "num_to_class = dict(zip(range(n_class), breed))\n",
    "display(class_to_num, n_class, breed)"
   ]
  },
  {
   "cell_type": "code",
   "execution_count": null,
   "metadata": {
    "collapsed": true
   },
   "outputs": [],
   "source": [
    "def predict_image(classification):\n",
    "    # test ramdom image\n",
    "    loaded_graph = tf.Graph()\n",
    "    top_n_predictions = 120\n",
    "\n",
    "    with tf.Session(graph=loaded_graph) as session:\n",
    "    # Load model\n",
    "        loader = tf.train.import_meta_graph(save_model_path + '.meta')\n",
    "        loader.restore(session, save_model_path)\n",
    "        # Get Tensors from loaded model\n",
    "        loaded_x = loaded_graph.get_tensor_by_name('features:0')\n",
    "        loaded_y = loaded_graph.get_tensor_by_name('label:0')\n",
    "        loaded_keep_prob = loaded_graph.get_tensor_by_name('keep_probability:0')\n",
    "        loaded_logits = loaded_graph.get_tensor_by_name('logits:0')\n",
    "        loaded_acc = loaded_graph.get_tensor_by_name('accuracy:0')\n",
    "    #    loaded_GDoptimizer = loaded_graph.get_tensor_by_name('GDoptimizer:0')    \n",
    "        #with open(\"data/submission.csv\", 'w',newline='') as csvFile:\n",
    "        #        writer = csv.writer(csvFile, delimiter=',', quotechar='\"')\n",
    "        #        writer.writerow([\"ImageId\",\"Label\"])\n",
    "        \n",
    "        #classification = session.run(tf.nn.top_k(tf.nn.softmax(loaded_logits), top_n_predictions), feed_dict={loaded_x: [data], loaded_keep_prob: 1.0})\n",
    "        for i in range(len(X_test)):\n",
    "            data = (X_test[i] - (255 / 2.0)) / 255\n",
    "            classification[i] = session.run(tf.nn.softmax(loaded_logits), feed_dict={loaded_x: [data], loaded_keep_prob: 1.0})\n",
    "\n",
    "            #plt.imshow(img.reshape(IMAGE_SIZE, IMAGE_SIZE), cmap=plt.cm.binary)\n",
    "            #plt.show()\n",
    "       # print ('Top {} prediction :' .format(top_n_predictions))\n",
    "       # print ('{}% ' .format(classification[0]) )\n",
    "       # print ('predicted value {}' .format(classification[1]))\n",
    "        #label = classification[1]\n",
    "        #    with open(\"mnist/submission.csv\", 'a', newline='') as csvFile:\n",
    "        #        writer = csv.writer(csvFile, delimiter=',', quotechar='\"')\n",
    "        #        writer.writerow([num , label[0][0]])\n",
    "            \n",
    "        return classification"
   ]
  },
  {
   "cell_type": "code",
   "execution_count": null,
   "metadata": {},
   "outputs": [],
   "source": [
    "predict = np.zeros((len(X_test), len(breed)), dtype=np.float)\n",
    "#print((X_test[0] - (255 / 2.0)) / 255)\n",
    "predict = predict_image(predict)\n",
    " "
   ]
  },
  {
   "cell_type": "code",
   "execution_count": null,
   "metadata": {},
   "outputs": [],
   "source": [
    "print(label_dict)"
   ]
  },
  {
   "cell_type": "code",
   "execution_count": 20,
   "metadata": {
    "collapsed": true
   },
   "outputs": [],
   "source": [
    "for b in breed:\n",
    "    df_test[b] = predict[:,label_dict[b]]\n",
    "df_test.to_csv('submission.csv', index=None)\n",
    "print(\"Done\")"
   ]
  },
  {
   "cell_type": "code",
   "execution_count": null,
   "metadata": {
    "collapsed": true
   },
   "outputs": [],
   "source": []
  }
 ],
 "metadata": {
  "kernelspec": {
   "display_name": "Python 3",
   "language": "python",
   "name": "python3"
  },
  "language_info": {
   "codemirror_mode": {
    "name": "ipython",
    "version": 3
   },
   "file_extension": ".py",
   "mimetype": "text/x-python",
   "name": "python",
   "nbconvert_exporter": "python",
   "pygments_lexer": "ipython3",
   "version": "3.6.3"
  }
 },
 "nbformat": 4,
 "nbformat_minor": 2
}
