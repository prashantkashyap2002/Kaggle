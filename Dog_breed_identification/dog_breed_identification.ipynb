{
 "cells": [
  {
   "cell_type": "markdown",
   "metadata": {},
   "source": [
    "# Dog Breed Identification:\n",
    "This is the project from Kaggle's dog-breed-identification competition.\n",
    "The data's are being used here from Kaggle's site provided for this competition. \n",
    "Downloded from \n",
    "https://www.kaggle.com/c/dog-breed-identification/data\n"
   ]
  },
  {
   "cell_type": "code",
   "execution_count": 2,
   "metadata": {},
   "outputs": [
    {
     "name": "stdout",
     "output_type": "stream",
     "text": [
      "Lib imported successfully\n"
     ]
    }
   ],
   "source": [
    "### Import all relevent lib\n",
    "import csv\n",
    "import numpy as np\n",
    "from PIL import Image\n",
    "import os, os.path\n",
    "import glob\n",
    "import matplotlib.pyplot as plt\n",
    "from sklearn.preprocessing import LabelEncoder\n",
    "from sklearn.preprocessing import OneHotEncoder\n",
    "from sklearn.model_selection import train_test_split\n",
    "\n",
    "### Dir\n",
    "LABELS = 'data/labels.csv'\n",
    "DATA_FILE = 'data/data.csv'\n",
    "TRAIN_IMAGE_DIR = 'data/train/'\n",
    "TEST_IMAGE_DIR = 'data/test/'\n",
    "IMAGE_SIZE = 32,32\n",
    "CHANNEL = 3\n",
    "SIZE = 32\n",
    "PIXEL_DEPTH = 255\n",
    "# Model save path\n",
    "save_model_path = './dog_breed_recognition'\n",
    "\n",
    "print ('Lib imported successfully')\n",
    "\n"
   ]
  },
  {
   "cell_type": "code",
   "execution_count": 3,
   "metadata": {},
   "outputs": [],
   "source": [
    "def load_image_in_array( indirname, outfile ) :\n",
    "    data = []\n",
    "#    with open(\"./data/tmp.csv\", 'w', newline='') as csvFile:\n",
    "#                writer = csv.writer(csvFile, delimiter=',', quotechar='\"')\n",
    "      \n",
    "    for root, dirs, fileList in os.walk(indirname, topdown=True):\n",
    "         for fname in fileList:\n",
    "#            for i in range(5):\n",
    "#                if count > 5 :\n",
    "#                    break\n",
    "            f = os.path.join(root,fname)\n",
    "            with open(\"./data/tmp.csv\", 'a', newline='') as csvFile:\n",
    "                writer = csv.writer(csvFile, delimiter=',', quotechar='\"')\n",
    "                #writer.writerow([str(fname)])\n",
    "            img = Image.open(f)\n",
    "            img.load()\n",
    "            img = img.resize(IMAGE_SIZE, Image.ANTIALIAS)\n",
    "            tmp = np.asarray( img, dtype=\"int32\" )\n",
    "            data.append(tmp)\n",
    "#            display(img)\n",
    "#            display(len(data))\n",
    "            \n",
    "    data = np.array(data)       \n",
    "    return data \n",
    "\n"
   ]
  },
  {
   "cell_type": "code",
   "execution_count": 4,
   "metadata": {},
   "outputs": [],
   "source": [
    "\n",
    "def save_feature_in_csv(outfile, indata):\n",
    "    read = list(csv.reader(open(\"data/tmp.csv\", \"r\"), delimiter=\" \"))\n",
    "    \n",
    "    with open(outfile, 'w', newline='') as csvFile:\n",
    "        writer = csv.writer(csvFile, delimiter=',', quotechar='\"')\n",
    "        writer.writerow([\"Index\" , \"Feature\", \"Name\"]) \n",
    "    with open(outfile, 'a', newline='') as csvFile :\n",
    "        writer = csv.writer(csvFile, delimiter=',', quotechar='\"')\n",
    "        for i in range(indata.shape[0]):\n",
    "            a = indata[i]\n",
    "            b = str(read[i])\n",
    "            read[i] = b[2:len(b)-6]\n",
    "            writer.writerow([i+1,a,str(read[i])])\n",
    "        \n",
    "#read = list(csv.reader(open(\"data/tmp.csv\", \"r\"), delimiter=\" \"))\n",
    "#b = str(read[19])\n",
    "#display(b)\n",
    "#a = (b.replace('.jpg',''))\n",
    "#a = b[2:len(b)-6]\n",
    "#display(a)\n",
    "\n"
   ]
  },
  {
   "cell_type": "code",
   "execution_count": 17,
   "metadata": {},
   "outputs": [
    {
     "name": "stdout",
     "output_type": "stream",
     "text": [
      "['boston_bull' 'dingo' 'pekinese' ..., 'airedale' 'miniature_pinscher'\n",
      " 'chesapeake_bay_retriever']\n",
      "19\n",
      "{19: 'boston_bull', 37: 'dingo', 85: 'pekinese', 15: 'bluetick', 49: 'golden_retriever', 10: 'bedlington_terrier', 18: 'borzoi', 7: 'basenji', 97: 'scottish_deerhound', 99: 'shetland_sheepdog', 113: 'walker_hound', 73: 'maltese_dog', 79: 'norfolk_terrier', 2: 'african_hunting_dog', 118: 'wire-haired_fox_terrier', 89: 'redbone', 68: 'lakeland_terrier', 21: 'boxer', 38: 'doberman', 83: 'otterhound', 106: 'standard_schnauzer', 58: 'irish_water_spaniel', 12: 'black-and-tan_coonhound', 26: 'cairn', 0: 'affenpinscher', 67: 'labrador_retriever', 55: 'ibizan_hound', 40: 'english_setter', 114: 'weimaraner', 48: 'giant_schnauzer', 54: 'groenendael', 36: 'dhole', 110: 'toy_poodle', 17: 'border_terrier', 109: 'tibetan_terrier', 80: 'norwegian_elkhound', 100: 'shih-tzu', 57: 'irish_terrier', 66: 'kuvasz', 46: 'german_shepherd', 53: 'greater_swiss_mountain_dog', 8: 'basset', 6: 'australian_terrier', 95: 'schipperke', 90: 'rhodesian_ridgeback', 56: 'irish_setter', 5: 'appenzeller', 14: 'bloodhound', 94: 'samoyed', 77: 'miniature_schnauzer', 24: 'brittany_spaniel', 63: 'kelpie', 84: 'papillon', 16: 'border_collie', 42: 'entlebucher', 33: 'collie', 71: 'malamute', 115: 'welsh_springer_spaniel', 29: 'chihuahua', 93: 'saluki', 88: 'pug', 72: 'malinois', 65: 'komondor', 3: 'airedale', 69: 'leonberg', 74: 'mexican_hairless', 25: 'bull_mastiff', 11: 'bernese_mountain_dog', 4: 'american_staffordshire_terrier', 70: 'lhasa', 27: 'cardigan', 60: 'italian_greyhound', 31: 'clumber', 96: 'scotch_terrier', 1: 'afghan_hound', 82: 'old_english_sheepdog', 92: 'saint_bernard', 75: 'miniature_pinscher', 43: 'eskimo_dog', 59: 'irish_wolfhound', 22: 'brabancon_griffon', 111: 'toy_terrier', 30: 'chow', 44: 'flat-coated_retriever', 81: 'norwich_terrier', 103: 'soft-coated_wheaten_terrier', 104: 'staffordshire_bullterrier', 39: 'english_foxhound', 50: 'gordon_setter', 101: 'siberian_husky', 78: 'newfoundland', 23: 'briard', 28: 'chesapeake_bay_retriever', 35: 'dandie_dinmont', 52: 'great_pyrenees', 9: 'beagle', 112: 'vizsla', 116: 'west_highland_white_terrier', 64: 'kerry_blue_terrier', 117: 'whippet', 98: 'sealyham_terrier', 105: 'standard_poodle', 62: 'keeshond', 61: 'japanese_spaniel', 76: 'miniature_poodle', 87: 'pomeranian', 34: 'curly-coated_retriever', 119: 'yorkshire_terrier', 86: 'pembroke', 51: 'great_dane', 13: 'blenheim_spaniel', 102: 'silky_terrier', 107: 'sussex_spaniel', 47: 'german_short-haired_pointer', 45: 'french_bulldog', 20: 'bouvier_des_flandres', 108: 'tibetan_mastiff', 41: 'english_springer', 32: 'cocker_spaniel', 91: 'rottweiler'}\n",
      "[ 0.  0.  0.  0.  0.  0.  0.  0.  0.  0.  0.  0.  0.  0.  0.  0.  0.  0.\n",
      "  0.  1.  0.  0.  0.  0.  0.  0.  0.  0.  0.  0.  0.  0.  0.  0.  0.  0.\n",
      "  0.  0.  0.  0.  0.  0.  0.  0.  0.  0.  0.  0.  0.  0.  0.  0.  0.  0.\n",
      "  0.  0.  0.  0.  0.  0.  0.  0.  0.  0.  0.  0.  0.  0.  0.  0.  0.  0.\n",
      "  0.  0.  0.  0.  0.  0.  0.  0.  0.  0.  0.  0.  0.  0.  0.  0.  0.  0.\n",
      "  0.  0.  0.  0.  0.  0.  0.  0.  0.  0.  0.  0.  0.  0.  0.  0.  0.  0.\n",
      "  0.  0.  0.  0.  0.  0.  0.  0.  0.  0.  0.  0.]\n"
     ]
    },
    {
     "data": {
      "text/plain": [
       "array([[ 0.,  0.,  0., ...,  0.,  0.,  0.],\n",
       "       [ 0.,  0.,  0., ...,  0.,  0.,  0.],\n",
       "       [ 0.,  0.,  0., ...,  0.,  0.,  0.],\n",
       "       ..., \n",
       "       [ 0.,  0.,  0., ...,  0.,  0.,  0.],\n",
       "       [ 0.,  0.,  0., ...,  0.,  0.,  0.],\n",
       "       [ 0.,  0.,  0., ...,  0.,  0.,  0.]])"
      ]
     },
     "execution_count": 17,
     "metadata": {},
     "output_type": "execute_result"
    }
   ],
   "source": [
    "label_dict = {}\n",
    "\n",
    "def label_encoding(labels):\n",
    "    # integer encode\n",
    "    print(labels)\n",
    "    label_encoder = LabelEncoder()\n",
    "    integer_encoded = label_encoder.fit_transform(labels)\n",
    "    print(integer_encoded[0])\n",
    "    label_dict = dict(zip(integer_encoded,labels))\n",
    "    #for i in range(len(integer_encoded)):\n",
    "    #    label_dict.update({integer_encoded[i]:labels[i]})\n",
    "    print(label_dict)   \n",
    "    # binary encode\n",
    "    onehot_encoder = OneHotEncoder(sparse=False)\n",
    "    integer_encoded = integer_encoded.reshape(len(integer_encoded), 1)\n",
    "    onehot_label_encoded = onehot_encoder.fit_transform(integer_encoded)\n",
    "    \n",
    "    print(onehot_label_encoded[0])\n",
    "    return onehot_label_encoded\n",
    "labels = np.loadtxt(open(LABELS, \"rb\"), dtype=str, delimiter=\",\", skiprows=1, usecols = 1)\n",
    "label_encoding(labels)"
   ]
  },
  {
   "cell_type": "code",
   "execution_count": 51,
   "metadata": {
    "collapsed": true
   },
   "outputs": [],
   "source": [
    "def feature_scaling(values):\n",
    "    # Values are rescaled from [0, 255] down to [-0.5, 0.5]\n",
    "    for i in range(values.shape[0]):\n",
    "        values[i] = (values[i] - (PIXEL_DEPTH / 2.0)) / PIXEL_DEPTH\n",
    "    return values"
   ]
  },
  {
   "cell_type": "code",
   "execution_count": 52,
   "metadata": {},
   "outputs": [
    {
     "data": {
      "text/plain": [
       "array([[165, 118,  66, ..., 167, 103,  70],\n",
       "       [ 64,  36,  20, ...,  49,  24,  16],\n",
       "       [ 96,  94,  91, ..., 115, 114, 111],\n",
       "       ..., \n",
       "       [  1,   1,   1, ..., 185, 192, 196],\n",
       "       [175, 169, 169, ..., 141, 141, 156],\n",
       "       [176, 176, 178, ..., 203, 203, 203]])"
      ]
     },
     "execution_count": 52,
     "metadata": {},
     "output_type": "execute_result"
    }
   ],
   "source": [
    "def organise_data():\n",
    "    # load the image data in to np array of size (no of image, 32, 32, 3)\n",
    "    data = load_image_in_array(TRAIN_IMAGE_DIR, DATA_FILE)\n",
    "    #display(data.shape)\n",
    "    \n",
    "    data = np.array(data, dtype=np.int32).flatten()\n",
    "    #display(data.shape)\n",
    "    # reshape the image into [image index, image_size*image_size*channels]\n",
    "    jpgCounter = len(glob.glob1(TRAIN_IMAGE_DIR,\"*.jpg\"))\n",
    "    \n",
    "    data = data.reshape(jpgCounter,SIZE*SIZE*3)\n",
    "    #display(data.shape)\n",
    "    \n",
    "    # save the data in /data/data.csv file\n",
    "    save_feature_in_csv(DATA_FILE, data)\n",
    "    \n",
    "    return data\n",
    "organise_data()"
   ]
  },
  {
   "cell_type": "code",
   "execution_count": 7,
   "metadata": {
    "collapsed": true
   },
   "outputs": [],
   "source": [
    "def get_feature_label():\n",
    "    labels = np.loadtxt(open(LABELS, \"rb\"), dtype=str, delimiter=\",\", skiprows=1, usecols = 1)\n",
    "    features = organise_data()\n",
    "    features = features.reshape(features.shape[0], SIZE, SIZE, CHANNEL)\n",
    "    #features = np.loadtxt(open(\"data/data.csv\", \"rb\"), dtype=int, delimiter=\",\", skiprows=1)\n",
    "    display(labels.shape)\n",
    "    onehot_label_encoded = label_encoding(labels)\n",
    "    scaled_features = feature_scaling(features)\n",
    "    display(onehot_label_encoded.shape)\n",
    "    return scaled_features, onehot_label_encoded"
   ]
  },
  {
   "cell_type": "code",
   "execution_count": 85,
   "metadata": {
    "collapsed": true
   },
   "outputs": [],
   "source": [
    "def get_train_cv_test_data():\n",
    "    features, labels = get_feature_label()\n",
    "    #features = features.reshape(features.shape[0], SIZE, SIZE, CHANNEL)\n",
    "    train_features, test_features, train_labels, test_labels = train_test_split(\n",
    "        features,\n",
    "        labels,\n",
    "        test_size=0.2,\n",
    "        random_state=42)\n",
    "    train_features, valid_features, train_labels, valid_labels = train_test_split(\n",
    "        train_features,\n",
    "        train_labels,\n",
    "        test_size=0.1,\n",
    "        random_state=42)\n",
    "    \n",
    "    return train_features, train_labels, valid_features, valid_labels, test_features, test_labels\n",
    "\n",
    "\n",
    "    "
   ]
  },
  {
   "cell_type": "code",
   "execution_count": 86,
   "metadata": {},
   "outputs": [
    {
     "data": {
      "text/plain": [
       "(10222,)"
      ]
     },
     "metadata": {},
     "output_type": "display_data"
    },
    {
     "name": "stdout",
     "output_type": "stream",
     "text": [
      "[ 0.  0.  0.  0.  0.  0.  0.  0.  0.  0.  0.  0.  0.  0.  0.  0.  0.  0.\n",
      "  0.  1.  0.  0.  0.  0.  0.  0.  0.  0.  0.  0.  0.  0.  0.  0.  0.  0.\n",
      "  0.  0.  0.  0.  0.  0.  0.  0.  0.  0.  0.  0.  0.  0.  0.  0.  0.  0.\n",
      "  0.  0.  0.  0.  0.  0.  0.  0.  0.  0.  0.  0.  0.  0.  0.  0.  0.  0.\n",
      "  0.  0.  0.  0.  0.  0.  0.  0.  0.  0.  0.  0.  0.  0.  0.  0.  0.  0.\n",
      "  0.  0.  0.  0.  0.  0.  0.  0.  0.  0.  0.  0.  0.  0.  0.  0.  0.  0.\n",
      "  0.  0.  0.  0.  0.  0.  0.  0.  0.  0.  0.  0.]\n"
     ]
    },
    {
     "data": {
      "text/plain": [
       "(10222, 120)"
      ]
     },
     "metadata": {},
     "output_type": "display_data"
    }
   ],
   "source": [
    "train_features, train_labels, valid_features, valid_labels, test_features, test_labels = get_train_cv_test_data()"
   ]
  },
  {
   "cell_type": "code",
   "execution_count": 87,
   "metadata": {},
   "outputs": [
    {
     "data": {
      "text/plain": [
       "((7359, 32, 32, 3),\n",
       " (7359, 120),\n",
       " (818, 32, 32, 3),\n",
       " (818, 120),\n",
       " (2045, 32, 32, 3),\n",
       " (2045, 120))"
      ]
     },
     "execution_count": 87,
     "metadata": {},
     "output_type": "execute_result"
    }
   ],
   "source": [
    "train_features.shape, train_labels.shape, valid_features.shape, valid_labels.shape, test_features.shape, test_labels.shape"
   ]
  },
  {
   "cell_type": "code",
   "execution_count": null,
   "metadata": {
    "collapsed": true
   },
   "outputs": [],
   "source": [
    "### CNN Model\n"
   ]
  },
  {
   "cell_type": "code",
   "execution_count": 77,
   "metadata": {},
   "outputs": [
    {
     "data": {
      "image/png": "[encoded data removed]",
      "text/plain": [
       "<matplotlib.figure.Figure at 0x1d59734c5c0>"
      ]
     },
     "metadata": {},
     "output_type": "display_data"
    }
   ],
   "source": [
    "image = train_features[6000]\n",
    "#display(image)\n",
    "#img = np.reshape(image,newshape=(32,32,3))\n",
    "img = img.astype(np.uint8)\n",
    "plt.imshow(img) #load\n",
    "plt.show()  # show the window\n",
    "\n"
   ]
  },
  {
   "cell_type": "code",
   "execution_count": 23,
   "metadata": {},
   "outputs": [
    {
     "data": {
      "image/png": "[encoded data removed]",
      "text/plain": [
       "<matplotlib.figure.Figure at 0x1d5934038d0>"
      ]
     },
     "metadata": {},
     "output_type": "display_data"
    }
   ],
   "source": [
    "labels = np.loadtxt(open(LABELS, \"rb\"), dtype=str, delimiter=\",\", skiprows=1, usecols = 1)\n",
    "features = np.loadtxt(open(\"data/data.csv\", \"rb\"), dtype=int, delimiter=\",\", skiprows=1, usecols = 0)\n",
    "#plt.figure(figsize=(120,50))\n",
    "#plt.figure(1)\n",
    "#plt.plot(labels,features, 'bo', markersize=20)\n",
    "plt.bar(labels,features, alpha=0.8)\n",
    "#plt.scatter(labels,features, c='r')\n",
    "plt.xlabel(\"Breed\")\n",
    "plt.ylabel(\"Index of train data\")\n",
    "plt.legend()\n",
    "plt.show()"
   ]
  },
  {
   "cell_type": "code",
   "execution_count": 28,
   "metadata": {},
   "outputs": [
    {
     "name": "stdout",
     "output_type": "stream",
     "text": [
      "[ 0.  0.  0.  0.  0.  0.  0.  0.  0.  0.  0.  0.  0.  0.  0.  0.  0.  0.\n",
      "  0.  0.  0.  0.  0.  0.  0.  0.  0.  0.  0.  0.  0.  0.  0.  0.  0.  0.\n",
      "  0.  1.  0.  0.  0.  0.  0.  0.  0.  0.  0.  0.  0.  0.  0.  0.  0.  0.\n",
      "  0.  0.  0.  0.  0.  0.  0.  0.  0.  0.  0.  0.  0.  0.  0.  0.  0.  0.\n",
      "  0.  0.  0.  0.  0.  0.  0.  0.  0.  0.  0.  0.  0.  0.  0.  0.  0.  0.\n",
      "  0.  0.  0.  0.  0.  0.  0.  0.  0.  0.  0.  0.  0.  0.  0.  0.  0.  0.\n",
      "  0.  0.  0.  0.  0.  0.  0.  0.  0.  0.  0.  0.]\n"
     ]
    }
   ],
   "source": [
    "\n",
    "\n"
   ]
  },
  {
   "cell_type": "code",
   "execution_count": null,
   "metadata": {
    "collapsed": true
   },
   "outputs": [],
   "source": []
  }
 ],
 "metadata": {
  "kernelspec": {
   "display_name": "Python 3",
   "language": "python",
   "name": "python3"
  }
 },
 "nbformat": 4,
 "nbformat_minor": 2
}
