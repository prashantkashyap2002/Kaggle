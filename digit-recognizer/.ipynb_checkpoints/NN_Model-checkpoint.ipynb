{
 "cells": [
  {
   "cell_type": "markdown",
   "metadata": {},
   "source": [
    "# Kaggle Digit Recognizer\n",
    "## Single and Multi Layer simple Neural Network Model\n",
    "\n",
    "\n",
    "In this notebook, We are going to implement single and multilayer Neural network architecture.\n",
    "\n"
   ]
  },
  {
   "cell_type": "markdown",
   "metadata": {},
   "source": [
    "\n"
   ]
  },
  {
   "cell_type": "markdown",
   "metadata": {},
   "source": [
    "### Step1\n",
    "Follwing cell is to Import all relevant library also declare macros which we are going to use in this notebook"
   ]
  },
  {
   "cell_type": "code",
   "execution_count": 1,
   "metadata": {},
   "outputs": [
    {
     "name": "stdout",
     "output_type": "stream",
     "text": [
      "Successfully Import of library \n"
     ]
    }
   ],
   "source": [
    "import tensorflow as tf\n",
    "from random import randint\n",
    "import math\n",
    "from tqdm import tqdm\n",
    "import matplotlib.pyplot as plt\n",
    "import numpy as np\n",
    "import pre_processing \n",
    "\n",
    "# Network Parameters\n",
    "# All the pixels in the image (28 * 28 = 784)\n",
    "features_count = 784 # MNIST data input (img shape: 28*28)\n",
    "# All the labels\n",
    "labels_count = 10 # MNIST total classes (0-9 digits)\n",
    "# Network Parameters\n",
    "n_hidden_1 = 256 # 1st layer number of neurons\n",
    "n_hidden_2 = 256 # 2nd layer number of neurons\n",
    "\n",
    "# multilayer_perceptron\n",
    "learning_rate_ml = 0.0001\n",
    "\n",
    "# singlelayer_perceptron\n",
    "learning_rate = 0.05\n",
    "\n",
    "# Change if you have memory restrictions\n",
    "batch_size = 100\n",
    "\n",
    "# TODO: Find the best parameters for each configuration\n",
    "epochs = 10\n",
    "\n",
    "save_model_path = './digit_recognition'\n",
    "data = np.zeros(shape=(10000,28*28))\n",
    "\n",
    "print ('Successfully Import of library ')"
   ]
  },
  {
   "cell_type": "markdown",
   "metadata": {},
   "source": [
    "### step 2\n",
    "get the data for network model\n",
    "Data's are, train feature & label, cross-validation fetures & labels, and test feature and labels.\n",
    "All labels are encoded.\n",
    "All features are rescaled between -0.5 to 0.5 from 0 - 255\n"
   ]
  },
  {
   "cell_type": "code",
   "execution_count": 2,
   "metadata": {
    "collapsed": true
   },
   "outputs": [],
   "source": [
    "def get_data():\n",
    "    return pre_processing.get_processed_data()"
   ]
  },
  {
   "cell_type": "markdown",
   "metadata": {},
   "source": [
    "### Step 3\n",
    "Now it's time to build a simple neural network using TensorFlow. Here, your network will be just an input layer and an output layer.\n",
    "For the input here the images have been flattened into a vector of 28×28=784 features. Then, we're trying to predict the image digit so there are 10 output units, one for each label. For the neural network to train on your data, we need the following float32 tensors:\n",
    "features: Placeholder tensor for feature data (train_features/valid_features/test_features)\n",
    "labels: Placeholder tensor for label data (train_labels/valid_labels/test_labels)\n",
    "weights: Variable Tensor with random numbers from a truncated normal distribution.\n",
    "biases: Variable Tensor with all zeros."
   ]
  },
  {
   "cell_type": "code",
   "execution_count": 3,
   "metadata": {
    "collapsed": true
   },
   "outputs": [],
   "source": [
    "\n",
    "def singlelayer_perceptron(x):\n",
    "    # TODO: Set the weights and biases tensors\n",
    "    weights = tf.Variable(tf.truncated_normal((features_count, labels_count)))\n",
    "    biases = tf.Variable(tf.zeros(labels_count))\n",
    "    \n",
    "    out_layer = tf.matmul(x, weights) + biases\n",
    "    return out_layer\n",
    "    \n",
    "def multilayer_perceptron(x):\n",
    "    # Store layers weight & bias\n",
    "    weights = {\n",
    "        'h1': tf.Variable(tf.random_normal([features_count, n_hidden_1])),\n",
    "        'h2': tf.Variable(tf.random_normal([n_hidden_1, n_hidden_2])),\n",
    "        'out': tf.Variable(tf.random_normal([n_hidden_2, labels_count]))\n",
    "    }\n",
    "    biases = {\n",
    "        'b1': tf.Variable(tf.random_normal([n_hidden_1])),\n",
    "        'b2': tf.Variable(tf.random_normal([n_hidden_2])),\n",
    "        'out': tf.Variable(tf.random_normal([labels_count]))\n",
    "    }\n",
    "    # Hidden fully connected layer with 256 neurons\n",
    "    layer_1 = tf.add(tf.matmul(x, weights['h1']), biases['b1'])\n",
    "    # Hidden fully connected layer with 256 neurons\n",
    "    layer_2 = tf.add(tf.matmul(layer_1, weights['h2']), biases['b2'])\n",
    "    # Output fully connected layer with a neuron for each class\n",
    "    out_layer = tf.matmul(layer_2, weights['out']) + biases['out']\n",
    "    return out_layer\n"
   ]
  },
  {
   "cell_type": "markdown",
   "metadata": {},
   "source": [
    "### Step 3: NN creation\n",
    "#### Step 3a:\n",
    "Create a single layer nn model"
   ]
  },
  {
   "cell_type": "code",
   "execution_count": 4,
   "metadata": {
    "collapsed": true
   },
   "outputs": [],
   "source": [
    "def single_layer_nn(features, labels):\n",
    "    # Linear Function WX + b\n",
    "    #logits = tf.matmul(features, weights) + biases\n",
    "    logits = singlelayer_perceptron(features)\n",
    "\n",
    "    # Name logits Tensor, so that is can be loaded from disk after training\n",
    "    #display (logits.shape)\n",
    "    logits = tf.identity(logits, name='logits')\n",
    "\n",
    "    prediction = tf.nn.softmax(logits)\n",
    "\n",
    "    # Cross entropy\n",
    "    cross_entropy = -tf.reduce_sum(labels * tf.log(prediction), reduction_indices=1)\n",
    "\n",
    "    # Define loss and optimizer\n",
    "    loss = tf.reduce_mean(tf.nn.softmax_cross_entropy_with_logits(\n",
    "        logits=logits, labels=labels))\n",
    "    print('single layer nn infra is done')\n",
    "\n",
    "    return logits, prediction, cross_entropy, loss"
   ]
  },
  {
   "cell_type": "markdown",
   "metadata": {},
   "source": [
    "#### Step 3b\n",
    "Create a multi layer nn model"
   ]
  },
  {
   "cell_type": "code",
   "execution_count": 5,
   "metadata": {
    "collapsed": true
   },
   "outputs": [],
   "source": [
    "def multi_layer_nn(features, labels):\n",
    "    # multilayer perception model\n",
    "    logits = multilayer_perceptron(features)\n",
    "    # Name logits Tensor, so that is can be loaded from disk after training\n",
    "    #display (logits.shape)\n",
    "    logits = tf.identity(logits, name='logits')\n",
    "\n",
    "    prediction = tf.nn.softmax(logits)\n",
    "\n",
    "    # Cross entropy\n",
    "    cross_entropy = -tf.reduce_sum(labels * tf.log(prediction), reduction_indices=1)\n",
    "\n",
    "    # Define loss and optimizer\n",
    "    loss = tf.reduce_mean(tf.nn.softmax_cross_entropy_with_logits(\n",
    "        logits=logits, labels=labels))\n",
    "    print('multi layer nn infra is done')\n",
    "\n",
    "    return logits, prediction, cross_entropy, loss\n"
   ]
  },
  {
   "cell_type": "markdown",
   "metadata": {},
   "source": [
    "### Step 4\n",
    "Create model for nn using tensorflow"
   ]
  },
  {
   "cell_type": "code",
   "execution_count": 6,
   "metadata": {
    "collapsed": true
   },
   "outputs": [],
   "source": [
    "def model():\n",
    "    # Remove previous weights, bias, inputs, etc..\n",
    "    tf.reset_default_graph()\n",
    "\n",
    "    # Set the features and labels tensors\n",
    "    features = tf.placeholder(tf.float32, name=\"features\")\n",
    "    labels = tf.placeholder(tf.float32, name=\"label\")\n",
    "    \n",
    "    logits, prediction, cross_entropy, loss = single_layer_nn(features, labels)\n",
    "    logits_ml, prediction_ml, cross_entropy_ml, loss_ml = multi_layer_nn(features, labels)\n",
    "    # Determine if the predictions are correct\n",
    "    is_correct_prediction = tf.equal(tf.argmax(prediction, 1), tf.argmax(labels, 1))\n",
    "    is_correct_prediction_ml = tf.equal(tf.argmax(prediction_ml, 1), tf.argmax(labels, 1))\n",
    "    # Calculate the accuracy of the predictions\n",
    "    accuracy = tf.reduce_mean(tf.cast(is_correct_prediction, tf.float32),name='accuracy')\n",
    "    accuracy_ml = tf.reduce_mean(tf.cast(is_correct_prediction_ml, tf.float32),name='accuracy_ml')\n",
    "\n",
    "    # Gradient Descent\n",
    "    optimizer = tf.train.GradientDescentOptimizer(learning_rate, name='GDoptimizer').minimize(loss) \n",
    "    \n",
    "    optimizer_ml = tf.train.GradientDescentOptimizer(learning_rate_ml).minimize(loss,name='GDoptimizer_ml') \n",
    "\n",
    "    print('Accuracy function created.')\n",
    "    return features, labels, logits, prediction, cross_entropy, loss, accuracy, optimizer\n",
    "    return features, labels, logits_ml, prediction_ml, cross_entropy_ml, loss_ml, accuracy_ml, optimizer_ml"
   ]
  },
  {
   "cell_type": "markdown",
   "metadata": {},
   "source": [
    "### Step 5:\n",
    "Train the model"
   ]
  },
  {
   "cell_type": "code",
   "execution_count": 11,
   "metadata": {
    "collapsed": true
   },
   "outputs": [],
   "source": [
    "def train_model(train_features, train_labels, valid_features, valid_labels, test_data, test_label):\n",
    "    # The accuracy measured against the validation set\n",
    "    validation_accuracy = 0.0\n",
    "\n",
    "    # Measurements use for graphing loss and accuracy\n",
    "    log_batch_step = 50\n",
    "    batches = []\n",
    "    loss_batch = []\n",
    "    train_acc_batch = []\n",
    "    valid_acc_batch = []\n",
    "    \n",
    "    features, labels, logits, prediction, cross_entropy, loss, accuracy, optimizer = model()\n",
    "    \n",
    "    # Feed dicts for training, validation, and test session\n",
    "    train_feed_dict = {features: train_features, labels: train_labels}\n",
    "    valid_feed_dict = {features: valid_features, labels: valid_labels}\n",
    "    \n",
    "\n",
    "    # Create an operation that initializes all variables\n",
    "    init = tf.global_variables_initializer()\n",
    "\n",
    "    with tf.Session() as session:\n",
    "        session.run(init)\n",
    "        batch_count = int(math.ceil(len(train_features)/batch_size))\n",
    "\n",
    "        for epoch_i in range(epochs):\n",
    "            avg_cost = 0  \n",
    "            # Progress bar\n",
    "            batches_pbar = tqdm(range(batch_count), desc='Epoch {:>2}/{}'.format(epoch_i+1, epochs), unit='batches')\n",
    "           # display((batch_count))\n",
    "            # The training cycle\n",
    "            for batch_i in batches_pbar:\n",
    "                # Get a batch of training features and labels\n",
    "                batch_start = batch_i*batch_size\n",
    "                batch_features = train_features[batch_start:batch_start + batch_size]\n",
    "                batch_labels = train_labels[batch_start:batch_start + batch_size]\n",
    "\n",
    "                # Run optimizer and get loss\n",
    "                _, l = session.run(\n",
    "                    [optimizer, loss],\n",
    "                    feed_dict={features: batch_features, labels: batch_labels})\n",
    "            \n",
    "                avg_cost += l / batch_size\n",
    "                        \n",
    "                # Log every 50 batches\n",
    "                if not batch_i % log_batch_step:\n",
    "                    # Calculate Training and Validation accuracy\n",
    "                    training_accuracy = session.run(accuracy, feed_dict=train_feed_dict)\n",
    "                    validation_accuracy = session.run(accuracy, feed_dict=valid_feed_dict)\n",
    "                    # Log batches\n",
    "                    previous_batch = batches[-1] if batches else 0\n",
    "                    batches.append(log_batch_step + previous_batch)\n",
    "                    loss_batch.append(l)\n",
    "                    train_acc_batch.append(training_accuracy)\n",
    "                    valid_acc_batch.append(validation_accuracy)\n",
    "                    #display(training_accuracy,)\n",
    "\n",
    "            print (\"Epoch:\", (epoch_i+1), \"cost =\", \"{:.5f}\".format(avg_cost))\n",
    "            # Check accuracy against Validation data\n",
    "            validation_accuracy = session.run(accuracy, feed_dict=valid_feed_dict)\n",
    "            print('Validation accuracy at {}'.format(validation_accuracy))\n",
    "\n",
    "        # Save Model\n",
    "        saver = tf.train.Saver()\n",
    "        save_path = saver.save(session, save_model_path)\n",
    "\n",
    "    loss_plot = plt.subplot(211)\n",
    "    loss_plot.set_title('Loss')\n",
    "    loss_plot.plot(batches, loss_batch, 'g')\n",
    "    loss_plot.set_xlim([batches[0], batches[-1]])\n",
    "    acc_plot = plt.subplot(212)\n",
    "    acc_plot.set_title('Accuracy')\n",
    "    acc_plot.plot(batches, train_acc_batch, 'r', label='Training Accuracy')\n",
    "    acc_plot.plot(batches, valid_acc_batch, 'x', label='Validation Accuracy')\n",
    "    acc_plot.set_ylim([0, 1.0])\n",
    "    acc_plot.set_xlim([batches[0], batches[-1]])\n",
    "    acc_plot.legend(loc=4)\n",
    "    plt.tight_layout()\n",
    "    plt.show()\n",
    "\n"
   ]
  },
  {
   "cell_type": "markdown",
   "metadata": {},
   "source": [
    "### Step 6:\n",
    "Test the model against hold out dataset/testing data. This will give you a good indicator of how well the model will do in the real world. "
   ]
  },
  {
   "cell_type": "code",
   "execution_count": 12,
   "metadata": {
    "collapsed": true
   },
   "outputs": [],
   "source": [
    "def test_model(train_features, train_labels, valid_features, valid_labels, test_data, test_label):\n",
    "    # The accuracy measured against the test set\n",
    "    test_accuracy = 0.0\n",
    "    loaded_graph = tf.Graph()\n",
    "    n_samples = 4\n",
    "    top_n_predictions = 3\n",
    "    \n",
    "    #features, labels, logits, prediction, cross_entropy, loss, accuracy, optimizer = model()\n",
    "    \n",
    "    #test_feed_dict = {features: test_data, labels: test_label}\n",
    "    #train_feed_dict = {features: train_features, labels: train_labels}\n",
    "    #valid_feed_dict = {features: valid_features, labels: valid_labels}\n",
    "\n",
    "    # Create an operation that initializes all variables\n",
    "    #init = tf.global_variables_initializer()\n",
    "    \n",
    "    #with tf.Session() as session:\n",
    "    with tf.Session(graph=loaded_graph) as session:\n",
    "        # Load model\n",
    "        loader = tf.train.import_meta_graph(save_model_path + '.meta')\n",
    "        loader.restore(session, save_model_path)\n",
    "        # Get Tensors from loaded model\n",
    "        loaded_x = loaded_graph.get_tensor_by_name('features:0')\n",
    "        loaded_y = loaded_graph.get_tensor_by_name('label:0')\n",
    "        loaded_logits = loaded_graph.get_tensor_by_name('logits:0')\n",
    "        loaded_acc = loaded_graph.get_tensor_by_name('accuracy:0')\n",
    "        #loaded_GDoptimizer = loaded_graph.get_tensor_by_name('GDoptimizer:0')      \n",
    "        #session.run(init)\n",
    "        #batch_count = int(math.ceil(len(train_features)/batch_size))\n",
    "        #for epoch_i in range(epochs):\n",
    "            # Progress bar\n",
    "            #batches_pbar = tqdm(range(batch_count), desc='Epoch {:>2}/{}'.format(epoch_i+1, epochs), unit='batches')\n",
    "        \n",
    "            # The training cycle\n",
    "            #for batch_i in batches_pbar:\n",
    "                # Get a batch of training features and labels\n",
    "            #    batch_start = batch_i*batch_size\n",
    "            #    batch_features = train_features[batch_start:batch_start + batch_size]\n",
    "            #    batch_labels = train_labels[batch_start:batch_start + batch_size]\n",
    "\n",
    "                # Run optimizer\n",
    "             #   _ = session.run(optimizer, feed_dict={features: batch_features, labels: batch_labels})\n",
    "\n",
    "            # Check accuracy against Test data\n",
    "        test_accuracy = session.run(loaded_acc, feed_dict={loaded_x: test_data, loaded_y: test_label})\n",
    "            #training_accuracy = session.run(accuracy, feed_dict=train_feed_dict)\n",
    "        # Print Random Samples\n",
    "    #    random_test_features = test_data[10]\n",
    "    #    random_test_labels = test_label_encoded[10]\n",
    "    #    random_test_predictions = session.run(\n",
    "    #            tf.nn.top_k(tf.nn.softmax(logits), top_n_predictions),\n",
    "    #            feed_dict={features: random_test_features, labels: random_test_labels})\n",
    "\n",
    "    #printf('prdiction {} '.format(random_test_predictions))\n",
    "    #printf('actual {}'.format(test_label_encoded))\n",
    "        #print('Training Accuracy is {}'.format(training_accuracy))\n",
    "        assert test_accuracy >= 0.80, 'Test accuracy at {}, should be equal to or greater than 0.80'.format(test_accuracy)\n",
    "        print('Nice Job! Test Accuracy is {}'.format(test_accuracy))\n"
   ]
  },
  {
   "cell_type": "markdown",
   "metadata": {},
   "source": [
    "### Step 7:\n",
    "Test the random image to verify how good the modle is"
   ]
  },
  {
   "cell_type": "code",
   "execution_count": 13,
   "metadata": {
    "collapsed": true
   },
   "outputs": [],
   "source": [
    "def test_random_image(data):\n",
    "    # test ramdom image\n",
    "    loaded_graph = tf.Graph()\n",
    "    top_n_predictions = 3\n",
    "\n",
    "    with tf.Session(graph=loaded_graph) as session:\n",
    "    # Load model\n",
    "        loader = tf.train.import_meta_graph(save_model_path + '.meta')\n",
    "        loader.restore(session, save_model_path)\n",
    "        # Get Tensors from loaded model\n",
    "        loaded_x = loaded_graph.get_tensor_by_name('features:0')\n",
    "        loaded_y = loaded_graph.get_tensor_by_name('label:0')\n",
    "        loaded_logits = loaded_graph.get_tensor_by_name('logits:0')\n",
    "    #    loaded_acc = loaded_graph.get_tensor_by_name('accuracy:0')\n",
    "    #    loaded_GDoptimizer = loaded_graph.get_tensor_by_name('GDoptimizer:0')      \n",
    "\n",
    "        num = randint(0, data.shape[0])\n",
    "        print ('num:', num)\n",
    "        img = data[num]\n",
    "        classification = session.run(tf.nn.top_k(tf.nn.softmax(loaded_logits), top_n_predictions), feed_dict={loaded_x: [img]})\n",
    "        plt.imshow(img.reshape(28, 28), cmap=plt.cm.binary)\n",
    "        plt.show()\n",
    "        print ('Top {} prediction :' .format(top_n_predictions))\n",
    "        print ('{}% ' .format(classification[0]*100) )\n",
    "        print ('predicted value {}' .format(classification[1]))\n",
    " "
   ]
  },
  {
   "cell_type": "markdown",
   "metadata": {},
   "source": [
    "### Step 8\n",
    "main function"
   ]
  },
  {
   "cell_type": "code",
   "execution_count": 14,
   "metadata": {},
   "outputs": [
    {
     "name": "stdout",
     "output_type": "stream",
     "text": [
      "data processing\n",
      "get_data\n",
      "downloading train-images-idx3-ubyte.gz\n",
      "downloading train-labels-idx1-ubyte.gz\n",
      "downloading t10k-images-idx3-ubyte.gz\n",
      "downloading t10k-labels-idx1-ubyte.gz\n",
      "Extracting mnist\\train-images-idx3-ubyte.gz\n",
      "Extracting mnist\\train-labels-idx1-ubyte.gz\n",
      "Extracting mnist\\t10k-images-idx3-ubyte.gz\n",
      "Extracting mnist\\t10k-labels-idx1-ubyte.gz\n",
      "All features and labels uncompressed.\n",
      "Training features and labels randomized and split.\n",
      "single layer nn infra is done\n",
      "multi layer nn infra is done\n",
      "Accuracy function created.\n"
     ]
    },
    {
     "name": "stderr",
     "output_type": "stream",
     "text": [
      "Epoch  1/10: 100%|█████████████████████| 570/570 [00:02<00:00, 226.13batches/s]\n"
     ]
    },
    {
     "name": "stdout",
     "output_type": "stream",
     "text": [
      "Epoch: 1 cost = 23.29108\n"
     ]
    },
    {
     "name": "stderr",
     "output_type": "stream",
     "text": [
      "Epoch  2/10: 100%|█████████████████████| 570/570 [00:02<00:00, 232.39batches/s]\n"
     ]
    },
    {
     "name": "stdout",
     "output_type": "stream",
     "text": [
      "Epoch: 2 cost = 7.82943\n"
     ]
    },
    {
     "name": "stderr",
     "output_type": "stream",
     "text": [
      "Epoch  3/10: 100%|█████████████████████| 570/570 [00:02<00:00, 235.45batches/s]\n"
     ]
    },
    {
     "name": "stdout",
     "output_type": "stream",
     "text": [
      "Epoch: 3 cost = 5.88809\n"
     ]
    },
    {
     "name": "stderr",
     "output_type": "stream",
     "text": [
      "Epoch  4/10: 100%|█████████████████████| 570/570 [00:02<00:00, 209.56batches/s]\n"
     ]
    },
    {
     "name": "stdout",
     "output_type": "stream",
     "text": [
      "Epoch: 4 cost = 5.01424\n"
     ]
    },
    {
     "name": "stderr",
     "output_type": "stream",
     "text": [
      "Epoch  5/10: 100%|█████████████████████| 570/570 [00:02<00:00, 200.02batches/s]\n"
     ]
    },
    {
     "name": "stdout",
     "output_type": "stream",
     "text": [
      "Epoch: 5 cost = 4.48872\n"
     ]
    },
    {
     "name": "stderr",
     "output_type": "stream",
     "text": [
      "Epoch  6/10: 100%|█████████████████████| 570/570 [00:02<00:00, 219.70batches/s]\n"
     ]
    },
    {
     "name": "stdout",
     "output_type": "stream",
     "text": [
      "Epoch: 6 cost = 4.12852\n"
     ]
    },
    {
     "name": "stderr",
     "output_type": "stream",
     "text": [
      "Epoch  7/10: 100%|█████████████████████| 570/570 [00:02<00:00, 193.92batches/s]\n"
     ]
    },
    {
     "name": "stdout",
     "output_type": "stream",
     "text": [
      "Epoch: 7 cost = 3.86179\n"
     ]
    },
    {
     "name": "stderr",
     "output_type": "stream",
     "text": [
      "Epoch  8/10: 100%|█████████████████████| 570/570 [00:02<00:00, 214.39batches/s]\n"
     ]
    },
    {
     "name": "stdout",
     "output_type": "stream",
     "text": [
      "Epoch: 8 cost = 3.65394\n"
     ]
    },
    {
     "name": "stderr",
     "output_type": "stream",
     "text": [
      "Epoch  9/10: 100%|█████████████████████| 570/570 [00:03<00:00, 187.22batches/s]\n"
     ]
    },
    {
     "name": "stdout",
     "output_type": "stream",
     "text": [
      "Epoch: 9 cost = 3.48614\n"
     ]
    },
    {
     "name": "stderr",
     "output_type": "stream",
     "text": [
      "Epoch 10/10: 100%|█████████████████████| 570/570 [00:02<00:00, 220.46batches/s]\n"
     ]
    },
    {
     "name": "stdout",
     "output_type": "stream",
     "text": [
      "Epoch: 10 cost = 3.34709\n"
     ]
    },
    {
     "data": {
      "image/png": "[encoded data removed]",
      "text/plain": [
       "<matplotlib.figure.Figure at 0x2c7065db588>"
      ]
     },
     "metadata": {},
     "output_type": "display_data"
    },
    {
     "name": "stdout",
     "output_type": "stream",
     "text": [
      "Validation accuracy at 0.8576666712760925\n",
      "INFO:tensorflow:Restoring parameters from ./digit_recognition\n",
      "Nice Job! Test Accuracy is 0.867900013923645\n"
     ]
    }
   ],
   "source": [
    "def nn_main():\n",
    "    train_features, valid_features, train_labels, valid_labels, test_data, test_label = get_data()\n",
    "    train_model(train_features, train_labels, valid_features, valid_labels, test_data, test_label)\n",
    "    test_model(train_features, train_labels, valid_features, valid_labels, test_data, test_label)\n",
    "    #data = test_data\n",
    "    return test_data\n",
    " \n",
    "data = nn_main() \n"
   ]
  },
  {
   "cell_type": "markdown",
   "metadata": {},
   "source": [
    "### Step 9\n",
    "Test the random image"
   ]
  },
  {
   "cell_type": "code",
   "execution_count": 15,
   "metadata": {},
   "outputs": [
    {
     "name": "stdout",
     "output_type": "stream",
     "text": [
      "INFO:tensorflow:Restoring parameters from ./digit_recognition\n",
      "num: 387\n"
     ]
    },
    {
     "data": {
      "image/png": "[encoded data removed]",
      "text/plain": [
       "<matplotlib.figure.Figure at 0x2c707a88e10>"
      ]
     },
     "metadata": {},
     "output_type": "display_data"
    },
    {
     "name": "stdout",
     "output_type": "stream",
     "text": [
      "Top 3 prediction :\n",
      "[[  9.99780273e+01   1.56723745e-02   4.65721963e-03]]% \n",
      "predicted value [[2 7 9]]\n"
     ]
    }
   ],
   "source": [
    "test_random_image(data)"
   ]
  },
  {
   "cell_type": "code",
   "execution_count": null,
   "metadata": {
    "collapsed": true
   },
   "outputs": [],
   "source": []
  }
 ],
 "metadata": {
  "kernelspec": {
   "display_name": "Python 3",
   "language": "python",
   "name": "python3"
  },
  "language_info": {
   "codemirror_mode": {
    "name": "ipython",
    "version": 3
   },
   "file_extension": ".py",
   "mimetype": "text/x-python",
   "name": "python",
   "nbconvert_exporter": "python",
   "pygments_lexer": "ipython3",
   "version": "3.6.3"
  }
 },
 "nbformat": 4,
 "nbformat_minor": 1
}
