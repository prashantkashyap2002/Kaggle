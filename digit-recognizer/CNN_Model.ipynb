{
 "cells": [
  {
   "cell_type": "markdown",
   "metadata": {},
   "source": [
    "# Kaggle Digit Recognizer\n",
    "## Convolution Neural Network Model\n",
    "\n",
    "\n",
    "In this notebook, We are going to implement CNN architecture.\n",
    "\n"
   ]
  },
  {
   "cell_type": "markdown",
   "metadata": {},
   "source": [
    "\n"
   ]
  },
  {
   "cell_type": "markdown",
   "metadata": {},
   "source": [
    "### Step1\n",
    "Follwing cell is to Import all relevant library also declare macros which we are going to use in this notebook"
   ]
  },
  {
   "cell_type": "code",
   "execution_count": 33,
   "metadata": {},
   "outputs": [
    {
     "name": "stdout",
     "output_type": "stream",
     "text": [
      "Successfully Import of library \n"
     ]
    }
   ],
   "source": [
    "import tensorflow as tf\n",
    "from random import randint\n",
    "import math\n",
    "from tqdm import tqdm\n",
    "import matplotlib.pyplot as plt\n",
    "import numpy as np\n",
    "from numpy import prod\n",
    "import pre_processing \n",
    "\n",
    "# Network Parameters\n",
    "IMAGE_SIZE = 28\n",
    "# All the pixels in the image (28 * 28 = 784)\n",
    "features_count = 784 # MNIST data input (img shape: 28*28)\n",
    "# All the labels\n",
    "labels_count = 10 # MNIST total classes (0-9 digits)\n",
    "\n",
    "# Change if have a memory restrictions\n",
    "batch_size = 4096\n",
    "\n",
    "# TODO: Find the best parameters for each configuration\n",
    "epochs = 10\n",
    "keep_probability = 1\n",
    "\n",
    "# Model save path\n",
    "save_model_path = './cnn_digit_recognition'\n",
    "#data = np.zeros(shape=(10000,28*28))\n",
    "\n",
    "print ('Successfully Import of library ')"
   ]
  },
  {
   "cell_type": "markdown",
   "metadata": {},
   "source": [
    "### step 2\n",
    "get the data for network model\n",
    "Data's are, train feature & label, cross-validation fetures & labels, and test feature and labels.\n",
    "All labels are encoded.\n",
    "All features are rescaled between -0.5 to 0.5 from 0 - 255\n"
   ]
  },
  {
   "cell_type": "code",
   "execution_count": 23,
   "metadata": {
    "collapsed": true
   },
   "outputs": [],
   "source": [
    "def get_data():\n",
    "    return pre_processing.get_processed_data()"
   ]
  },
  {
   "cell_type": "markdown",
   "metadata": {},
   "source": [
    "### Step :\n",
    "Test the random image to verify how good the model is"
   ]
  },
  {
   "cell_type": "code",
   "execution_count": 24,
   "metadata": {
    "collapsed": true
   },
   "outputs": [],
   "source": [
    "def test_random_image(data):\n",
    "    # test ramdom image\n",
    "    loaded_graph = tf.Graph()\n",
    "    top_n_predictions = 3\n",
    "\n",
    "    with tf.Session(graph=loaded_graph) as session:\n",
    "    # Load model\n",
    "        loader = tf.train.import_meta_graph(save_model_path + '.meta')\n",
    "        loader.restore(session, save_model_path)\n",
    "        # Get Tensors from loaded model\n",
    "        loaded_x = loaded_graph.get_tensor_by_name('features:0')\n",
    "        loaded_y = loaded_graph.get_tensor_by_name('label:0')\n",
    "        loaded_keep_prob = loaded_graph.get_tensor_by_name('keep_probability:0')\n",
    "        loaded_logits = loaded_graph.get_tensor_by_name('logits:0')\n",
    "        loaded_acc = loaded_graph.get_tensor_by_name('accuracy:0')\n",
    "    #    loaded_GDoptimizer = loaded_graph.get_tensor_by_name('GDoptimizer:0')      \n",
    "\n",
    "        num = randint(0, data.shape[0])\n",
    "        print ('num:', num)\n",
    "        img = data[num]\n",
    "        img = img.reshape(IMAGE_SIZE, IMAGE_SIZE,1)\n",
    "        classification = session.run(tf.nn.top_k(tf.nn.softmax(loaded_logits), top_n_predictions), feed_dict={loaded_x: [img], loaded_keep_prob: 1.0})\n",
    "        plt.imshow(img.reshape(28, 28), cmap=plt.cm.binary)\n",
    "        plt.show()\n",
    "        print ('Top {} prediction :' .format(top_n_predictions))\n",
    "        print ('{}% ' .format(classification[0]*100) )\n",
    "        print ('predicted value {}' .format(classification[1]))\n",
    " "
   ]
  },
  {
   "cell_type": "markdown",
   "metadata": {
    "collapsed": true
   },
   "source": [
    "## Convolution and Max Pooling Layer\n",
    "Convolution layers have a lot of success with images. For this code cell, we will implement the function conv2d_maxpool to apply convolution then max pooling:\n",
    "Create the weight and bias using conv_ksize, conv_num_outputs and the shape of x_tensor.\n",
    "Apply a convolution to x_tensor using weight and conv_strides.\n",
    "We use same padding, but welcome to use any padding.\n",
    "Add bias\n",
    "Add a nonlinear activation to the convolution.\n",
    "Apply Max Pooling using pool_ksize and pool_strides.\n",
    "We use same padding, but you're welcome to use any padding.\n"
   ]
  },
  {
   "cell_type": "code",
   "execution_count": 25,
   "metadata": {
    "collapsed": true
   },
   "outputs": [],
   "source": [
    "def conv2d_maxpool(x_tensor, conv_num_outputs, conv_ksize, conv_strides, pool_ksize, pool_strides):\n",
    "    \"\"\"\n",
    "    Apply convolution then max pooling to x_tensor\n",
    "    :param x_tensor: TensorFlow Tensor\n",
    "    :param conv_num_outputs: Number of outputs for the convolutional layer\n",
    "    :param conv_ksize: kernal size 2-D Tuple for the convolutional layer\n",
    "    :param conv_strides: Stride 2-D Tuple for convolution\n",
    "    :param pool_ksize: kernal size 2-D Tuple for pool\n",
    "    :param pool_strides: Stride 2-D Tuple for pool\n",
    "    : return: A tensor that represents convolution and max pooling of x_tensor\n",
    "    \"\"\"\n",
    "    # TODO: Implement Function\n",
    "    dimension = x_tensor.get_shape().as_list()\n",
    "    shape = list(conv_ksize + (dimension[-1],) + (conv_num_outputs,))\n",
    "    #print(shape)\n",
    "    filter_weights = tf.Variable(tf.truncated_normal(shape,0,0.1)) # (height, width, input_depth, output_depth)\n",
    "    filter_bias = tf.Variable(tf.zeros(conv_num_outputs))\n",
    "    padding = 'SAME'\n",
    "    #print(list((1,)+conv_strides+(1,)))\n",
    "    #print(filter_weights)\n",
    "    conv_layer = tf.nn.conv2d(x_tensor, filter_weights, list((1,)+conv_strides+(1,)), padding)\n",
    "    conv_layer = tf.nn.bias_add(conv_layer, filter_bias)\n",
    "    \n",
    "    conv_layer = tf.nn.relu(conv_layer)\n",
    "    \n",
    "    conv_layer = tf.nn.max_pool(\n",
    "        conv_layer,\n",
    "        ksize=[1] + list(pool_ksize) + [1],\n",
    "        strides=[1] + list(pool_strides) + [1],\n",
    "        padding='SAME')\n",
    "    \n",
    "    return conv_layer\n"
   ]
  },
  {
   "cell_type": "markdown",
   "metadata": {},
   "source": [
    "### Flatten Layer\n",
    "Implement the flatten function to change the dimension of x_tensor from a 4-D tensor to a 2-D tensor. The output should be the shape (Batch Size, Flattened Image Size). \n"
   ]
  },
  {
   "cell_type": "code",
   "execution_count": 26,
   "metadata": {
    "collapsed": true
   },
   "outputs": [],
   "source": [
    "def flatten(x_tensor):\n",
    "    \"\"\"\n",
    "    Flatten x_tensor to (Batch Size, Flattened Image Size)\n",
    "    : x_tensor: A tensor of size (Batch Size, ...), where ... are the image dimensions.\n",
    "    : return: A tensor of size (Batch Size, Flattened Image Size).\n",
    "    \"\"\"\n",
    "    # TODO: Implement Function\n",
    "    #return None\n",
    "    dimension = x_tensor.get_shape().as_list()  \n",
    "    display(dimension)\n",
    "    x =  tf.reshape(x_tensor,[-1,prod(dimension[1:])])\n",
    "    display(x.get_shape().as_list())\n",
    "    return x\n"
   ]
  },
  {
   "cell_type": "markdown",
   "metadata": {},
   "source": [
    "### Fully-Connected Layer\n",
    "Implement the fully_conn function to apply a fully connected layer to x_tensor with the shape (Batch Size, num_outputs).  "
   ]
  },
  {
   "cell_type": "code",
   "execution_count": 27,
   "metadata": {
    "collapsed": true
   },
   "outputs": [],
   "source": [
    "def fully_conn(x_tensor, num_outputs):\n",
    "    \"\"\"\n",
    "    Apply a fully connected layer to x_tensor using weight and bias\n",
    "    : x_tensor: A 2-D tensor where the first dimension is batch size.\n",
    "    : num_outputs: The number of output that the new tensor should be.\n",
    "    : return: A 2-D tensor where the second dimension is num_outputs.\n",
    "    \"\"\"\n",
    "    # TODO: Implement Function\n",
    "    dimension = x_tensor.get_shape().as_list()\n",
    "    shape = list( (dimension[-1],) + (num_outputs,))\n",
    "    print(x_tensor.get_shape())\n",
    "    weight = tf.Variable(tf.truncated_normal(shape,0,0.1))\n",
    "    bias = tf.Variable(tf.zeros(num_outputs))\n",
    "    print (weight.get_shape(), bias.get_shape())\n",
    "    return tf.nn.relu(tf.add(tf.matmul(x_tensor,weight), bias))\n",
    " "
   ]
  },
  {
   "cell_type": "markdown",
   "metadata": {},
   "source": [
    "### Output Layer\n",
    "Implement the output function to apply a fully connected layer to x_tensor with the shape (Batch Size, num_outputs). \n",
    "Note: Activation, softmax, or cross entropy should not be applied to this.\n"
   ]
  },
  {
   "cell_type": "code",
   "execution_count": 28,
   "metadata": {
    "collapsed": true
   },
   "outputs": [],
   "source": [
    "def output(x_tensor, num_outputs):\n",
    "    \"\"\"\n",
    "    Apply a output layer to x_tensor using weight and bias\n",
    "    : x_tensor: A 2-D tensor where the first dimension is batch size.\n",
    "    : num_outputs: The number of output that the new tensor should be.\n",
    "    : return: A 2-D tensor where the second dimension is num_outputs.\n",
    "    \"\"\"\n",
    "    # TODO: Implement Function\n",
    "    dimension = x_tensor.get_shape().as_list()\n",
    "    shape = list( (dimension[-1],) + (num_outputs,))\n",
    "    print(shape)\n",
    "    weight = tf.Variable(tf.truncated_normal(shape,0,0.01))\n",
    "    bias = tf.Variable(tf.zeros(num_outputs))\n",
    "\n",
    "    return tf.add(tf.matmul(x_tensor,weight), bias)\n"
   ]
  },
  {
   "cell_type": "markdown",
   "metadata": {},
   "source": [
    "### Create Convolutional Model\n",
    "Implement the function conv_net to create a convolutional neural network model. The function takes in a batch of images, x, and outputs logits. Use the layers you created above to create this model:\n",
    "Apply 1, 2, or 3 Convolution and Max Pool layers\n",
    "Apply a Flatten Layer\n",
    "Apply 1, 2, or 3 Fully Connected Layers\n",
    "Apply an Output Layer\n",
    "Return the output\n",
    "Apply TensorFlow's Dropout to one or more layers in the model using keep_prob.\n"
   ]
  },
  {
   "cell_type": "code",
   "execution_count": 29,
   "metadata": {
    "collapsed": true
   },
   "outputs": [],
   "source": [
    "def conv_net(x, keep_prob):\n",
    "    \"\"\"\n",
    "    Create a convolutional neural network model\n",
    "    : x: Placeholder tensor that holds image data.\n",
    "    : keep_prob: Placeholder tensor that hold dropout keep probability.\n",
    "    : return: Tensor that represents logits\n",
    "    \"\"\"\n",
    "    # TODO: Apply 1, 2, or 3 Convolution and Max Pool layers\n",
    "    #    Play around with different number of outputs, kernel size and stride\n",
    "    # Function Definition from Above:\n",
    "    #    conv2d_maxpool(x_tensor, conv_num_outputs, conv_ksize, conv_strides, pool_ksize, pool_strides)\n",
    "    model = conv2d_maxpool(x, conv_num_outputs=18, conv_ksize=(4,4), conv_strides=(1,1), pool_ksize=(8,8), pool_strides=(1,1))\n",
    "    #model = conv2d_maxpool(x, conv_num_outputs=36, conv_ksize=(4,4), conv_strides=(1,1), pool_ksize=(2,2), pool_strides=(1,1))\n",
    "    #model = conv2d_maxpool(model, conv_num_outputs=8, conv_ksize=(4,4), conv_strides=(1,1), pool_ksize=(4,4), pool_strides=(1,1))\n",
    "    #model = tf.nn.relu(model)\n",
    "    model = tf.nn.dropout(model, keep_prob)    \n",
    "\n",
    "    # TODO: Apply a Flatten Layer\n",
    "    # Function Definition from Above:\n",
    "    #   flatten(x_tensor)\n",
    "    model = flatten(model)\n",
    "\n",
    "    # TODO: Apply 1, 2, or 3 Fully Connected Layers\n",
    "    #    Play around with different number of outputs\n",
    "    # Function Definition from Above:\n",
    "    #   fully_conn(x_tensor, num_outputs)\n",
    "    model = fully_conn(model,200)\n",
    "    #model = fully_conn(model,200)\n",
    "    #model = fully_conn(model,20)\n",
    "    #model = tf.nn.relu(model)\n",
    "    \n",
    "    model = tf.nn.dropout(model, keep_prob)\n",
    "    \n",
    "    # TODO: Apply an Output Layer\n",
    "    #    Set this to the number of classes\n",
    "    # Function Definition from Above:\n",
    "    #   output(x_tensor, num_outputs)\n",
    "    model = output(model,10)\n",
    "    \n",
    "    # TODO: return output\n",
    "    return model\n",
    "\n",
    "\n",
    "\n",
    "def cnn_model():\n",
    "##############################\n",
    "## Build the Neural Network ##\n",
    "##############################\n",
    "\n",
    "    # Remove previous weights, bias, inputs, etc..\n",
    "    tf.reset_default_graph()\n",
    "\n",
    "    # Inputs\n",
    "    image_shape = (IMAGE_SIZE,IMAGE_SIZE,1)\n",
    "    features = tf.placeholder(tf.float32, [None] + list(image_shape), name=\"features\")\n",
    "    labels = tf.placeholder(tf.float32, (None, labels_count), name=\"label\")\n",
    "    keep_prob = tf.placeholder(tf.float32, name=\"keep_probability\")\n",
    "\n",
    "    # Model\n",
    "    logits = conv_net(features, keep_prob)\n",
    "\n",
    "    # Name logits Tensor, so that is can be loaded from disk after training\n",
    "    logits = tf.identity(logits, name='logits')\n",
    "\n",
    "    # Loss and Optimizer\n",
    "    cost = tf.reduce_mean(tf.nn.softmax_cross_entropy_with_logits(logits=logits, labels=labels))\n",
    "    optimizer = tf.train.AdamOptimizer().minimize(cost)\n",
    "\n",
    "    # Accuracy\n",
    "    correct_pred = tf.equal(tf.argmax(logits, 1), tf.argmax(labels, 1))\n",
    "    accuracy = tf.reduce_mean(tf.cast(correct_pred, tf.float32), name='accuracy')\n",
    "    return features, labels, keep_prob, logits, cost, accuracy, optimizer\n"
   ]
  },
  {
   "cell_type": "markdown",
   "metadata": {},
   "source": [
    "### Train the Neural Network\n",
    "Single Optimization\n",
    "Implement the function train_neural_network to do a single optimization. The optimization should use optimizer to optimize in session with a feed_dict of the following:\n",
    "x for image input\n",
    "y for labels\n",
    "keep_prob for keep probability for dropout\n",
    "This function will be called for each batch, so tf.global_variables_initializer() has already been called.\n",
    "Note: Nothing needs to be returned. This function is only optimizing the neural network."
   ]
  },
  {
   "cell_type": "code",
   "execution_count": 30,
   "metadata": {
    "collapsed": true
   },
   "outputs": [],
   "source": [
    "def train_neural_network(session, optimizer, keep_probability, feature_batch, label_batch, features, lables, keep_prob):\n",
    "    \"\"\"\n",
    "    Optimize the session on a batch of images and labels\n",
    "    : session: Current TensorFlow session\n",
    "    : optimizer: TensorFlow optimizer function\n",
    "    : keep_probability: keep probability\n",
    "    : feature_batch: Batch of Numpy image data\n",
    "    : label_batch: Batch of Numpy label data\n",
    "    \"\"\"\n",
    "    # TODO: Implement Function\n",
    "    #features, labels, keep_prob, logits, cost, accuracy, optimizer = cnn_model()\n",
    "    session.run(optimizer, feed_dict={features:feature_batch, labels:label_batch, keep_prob:keep_probability})\n"
   ]
  },
  {
   "cell_type": "markdown",
   "metadata": {},
   "source": [
    "### Show Stats\n",
    "Implement the function print_stats to print loss and validation accuracy. Use the global variables valid_features and valid_labels to calculate validation accuracy. Use a keep probability of 1.0 to calculate the loss and validation accuracy.\n"
   ]
  },
  {
   "cell_type": "code",
   "execution_count": 31,
   "metadata": {
    "collapsed": true
   },
   "outputs": [],
   "source": [
    "def print_stats(session, feature_batch, label_batch, cost, accuracy, features, labels, keep_prob):\n",
    "    \"\"\"\n",
    "    Print information about loss and validation accuracy\n",
    "    : session: Current TensorFlow session\n",
    "    : feature_batch: Batch of Numpy image data\n",
    "    : label_batch: Batch of Numpy label data\n",
    "    : cost: TensorFlow cost function\n",
    "    : accuracy: TensorFlow accuracy function\n",
    "    \"\"\"\n",
    "    #features, labels, keep_prob, logits, cost, accuracy, optimizer = cnn_model()\n",
    "    loss = session.run(cost, feed_dict={features:feature_batch, labels:label_batch, keep_prob:1.0})\n",
    "    valid_acc = session.run(accuracy, feed_dict={\n",
    "                features: valid_features,\n",
    "                labels: valid_labels,\n",
    "                keep_prob: 1.})\n",
    "    print('Loss: {:>10.4f} Validation Accuracy: {:.6f}'.format(\n",
    "                loss,\n",
    "                valid_acc))"
   ]
  },
  {
   "cell_type": "markdown",
   "metadata": {},
   "source": [
    "### Hyperparameters\n",
    "Tune the following parameters:\n",
    "Set epochs to the number of iterations until the network stops learning or start overfitting\n",
    "Set batch_size to the highest number that your machine has memory for. Most people set them to common sizes of memory:\n",
    "64\n",
    "128\n",
    "256\n",
    "...\n",
    "Set keep_probability to the probability of keeping a node using dropout"
   ]
  },
  {
   "cell_type": "code",
   "execution_count": 32,
   "metadata": {
    "collapsed": true
   },
   "outputs": [],
   "source": [
    "# TODO: Tune Parameters\n",
    "#epochs = 100\n",
    "#batch_size = 512\n",
    "keep_probability = 1"
   ]
  },
  {
   "cell_type": "markdown",
   "metadata": {},
   "source": [
    "### Train on a Single Batch\n",
    "Instead of training the neural network on all the batches of data, let's use a single batch. This should save time while you iterate on the model to get a better accuracy. Once the final validation accuracy is 50% or greater, run the model on all the data in the next section."
   ]
  },
  {
   "cell_type": "code",
   "execution_count": 38,
   "metadata": {},
   "outputs": [
    {
     "name": "stdout",
     "output_type": "stream",
     "text": [
      "Checking the Training on a Single Batch...\n"
     ]
    },
    {
     "data": {
      "text/plain": [
       "[None, 28, 28, 18]"
      ]
     },
     "metadata": {},
     "output_type": "display_data"
    },
    {
     "data": {
      "text/plain": [
       "[None, 14112]"
      ]
     },
     "metadata": {},
     "output_type": "display_data"
    },
    {
     "name": "stdout",
     "output_type": "stream",
     "text": [
      "(?, 14112)\n",
      "(14112, 20) (20,)\n",
      "[20, 10]\n",
      "data processing\n",
      "get_data\n",
      "downloading train-images-idx3-ubyte.gz\n",
      "downloading train-labels-idx1-ubyte.gz\n",
      "downloading t10k-images-idx3-ubyte.gz\n",
      "downloading t10k-labels-idx1-ubyte.gz\n",
      "Extracting mnist\\train-images-idx3-ubyte.gz\n",
      "Extracting mnist\\train-labels-idx1-ubyte.gz\n",
      "Extracting mnist\\t10k-images-idx3-ubyte.gz\n",
      "Extracting mnist\\t10k-labels-idx1-ubyte.gz\n",
      "All features and labels uncompressed.\n",
      "Training features and labels randomized and split.\n"
     ]
    },
    {
     "name": "stderr",
     "output_type": "stream",
     "text": [
      "\n",
      "Epoch  1/1:   0%|                                  | 0/28 [00:00<?, ?batches/s]"
     ]
    },
    {
     "name": "stdout",
     "output_type": "stream",
     "text": [
      "Loss:     2.2980 Validation Accuracy: 0.107000\n",
      "Epoch  1, Batch 0:  "
     ]
    },
    {
     "name": "stderr",
     "output_type": "stream",
     "text": [
      "\n",
      "Epoch  1/1:   4%|▉                         | 1/28 [00:12<05:25, 12.07s/batches]"
     ]
    },
    {
     "name": "stdout",
     "output_type": "stream",
     "text": [
      "Loss:     2.2939 Validation Accuracy: 0.152333\n",
      "Epoch  1, Batch 1:  "
     ]
    },
    {
     "name": "stderr",
     "output_type": "stream",
     "text": [
      "\n",
      "Epoch  1/1:   7%|█▊                        | 2/28 [00:23<05:09, 11.92s/batches]"
     ]
    },
    {
     "name": "stdout",
     "output_type": "stream",
     "text": [
      "Loss:     2.2897 Validation Accuracy: 0.297667\n",
      "Epoch  1, Batch 2:  "
     ]
    },
    {
     "name": "stderr",
     "output_type": "stream",
     "text": [
      "\n",
      "Epoch  1/1:  11%|██▊                       | 3/28 [00:35<04:56, 11.86s/batches]"
     ]
    },
    {
     "name": "stdout",
     "output_type": "stream",
     "text": [
      "Loss:     2.2828 Validation Accuracy: 0.295000\n",
      "Epoch  1, Batch 3:  "
     ]
    },
    {
     "name": "stderr",
     "output_type": "stream",
     "text": [
      "\n",
      "Epoch  1/1:  14%|███▋                      | 4/28 [00:47<04:45, 11.88s/batches]"
     ]
    },
    {
     "name": "stdout",
     "output_type": "stream",
     "text": [
      "Loss:     2.2727 Validation Accuracy: 0.287667\n",
      "Epoch  1, Batch 4:  "
     ]
    },
    {
     "name": "stderr",
     "output_type": "stream",
     "text": [
      "\n",
      "Epoch  1/1:  18%|████▋                     | 5/28 [00:59<04:32, 11.84s/batches]"
     ]
    },
    {
     "name": "stdout",
     "output_type": "stream",
     "text": [
      "Loss:     2.2665 Validation Accuracy: 0.300000\n",
      "Epoch  1, Batch 5:  "
     ]
    },
    {
     "name": "stderr",
     "output_type": "stream",
     "text": [
      "\n",
      "Epoch  1/1:  21%|█████▌                    | 6/28 [01:11<04:20, 11.86s/batches]"
     ]
    },
    {
     "name": "stdout",
     "output_type": "stream",
     "text": [
      "Loss:     2.2559 Validation Accuracy: 0.321667\n",
      "Epoch  1, Batch 6:  "
     ]
    },
    {
     "name": "stderr",
     "output_type": "stream",
     "text": [
      "\n",
      "Epoch  1/1:  25%|██████▌                   | 7/28 [01:22<04:08, 11.84s/batches]"
     ]
    },
    {
     "name": "stdout",
     "output_type": "stream",
     "text": [
      "Loss:     2.2390 Validation Accuracy: 0.326667\n",
      "Epoch  1, Batch 7:  "
     ]
    },
    {
     "name": "stderr",
     "output_type": "stream",
     "text": [
      "\n",
      "Epoch  1/1:  29%|███████▍                  | 8/28 [01:34<03:57, 11.85s/batches]"
     ]
    },
    {
     "name": "stdout",
     "output_type": "stream",
     "text": [
      "Loss:     2.2292 Validation Accuracy: 0.349667\n",
      "Epoch  1, Batch 8:  "
     ]
    },
    {
     "name": "stderr",
     "output_type": "stream",
     "text": [
      "\n",
      "Epoch  1/1:  32%|████████▎                 | 9/28 [01:46<03:45, 11.88s/batches]"
     ]
    },
    {
     "name": "stdout",
     "output_type": "stream",
     "text": [
      "Loss:     2.2033 Validation Accuracy: 0.385667\n",
      "Epoch  1, Batch 9:  "
     ]
    },
    {
     "name": "stderr",
     "output_type": "stream",
     "text": [
      "\n",
      "Epoch  1/1:  36%|████████▉                | 10/28 [01:58<03:33, 11.88s/batches]"
     ]
    },
    {
     "name": "stdout",
     "output_type": "stream",
     "text": [
      "Loss:     2.1771 Validation Accuracy: 0.372333\n",
      "Epoch  1, Batch 10:  "
     ]
    },
    {
     "name": "stderr",
     "output_type": "stream",
     "text": [
      "\n",
      "Epoch  1/1:  39%|█████████▊               | 11/28 [02:10<03:22, 11.91s/batches]"
     ]
    },
    {
     "name": "stdout",
     "output_type": "stream",
     "text": [
      "Loss:     2.1516 Validation Accuracy: 0.363000\n",
      "Epoch  1, Batch 11:  "
     ]
    },
    {
     "name": "stderr",
     "output_type": "stream",
     "text": [
      "\n",
      "Epoch  1/1:  43%|██████████▋              | 12/28 [02:23<03:11, 11.95s/batches]"
     ]
    },
    {
     "name": "stdout",
     "output_type": "stream",
     "text": [
      "Loss:     2.1287 Validation Accuracy: 0.356000\n",
      "Epoch  1, Batch 12:  "
     ]
    },
    {
     "name": "stderr",
     "output_type": "stream",
     "text": [
      "\n",
      "Epoch  1/1:  46%|███████████▌             | 13/28 [02:35<02:59, 12.00s/batches]"
     ]
    },
    {
     "name": "stdout",
     "output_type": "stream",
     "text": [
      "Loss:     2.0891 Validation Accuracy: 0.350000\n",
      "Epoch  1, Batch 13:  "
     ]
    },
    {
     "name": "stderr",
     "output_type": "stream",
     "text": [
      "\n",
      "Epoch  1/1:  50%|████████████▌            | 14/28 [02:48<02:48, 12.05s/batches]"
     ]
    },
    {
     "name": "stdout",
     "output_type": "stream",
     "text": [
      "Loss:     2.0626 Validation Accuracy: 0.370333\n",
      "Epoch  1, Batch 14:  "
     ]
    },
    {
     "name": "stderr",
     "output_type": "stream",
     "text": [
      "\n",
      "Epoch  1/1:  54%|█████████████▍           | 15/28 [03:00<02:36, 12.05s/batches]"
     ]
    },
    {
     "name": "stdout",
     "output_type": "stream",
     "text": [
      "Loss:     2.0314 Validation Accuracy: 0.408000\n",
      "Epoch  1, Batch 15:  "
     ]
    },
    {
     "name": "stderr",
     "output_type": "stream",
     "text": [
      "\n",
      "Epoch  1/1:  57%|██████████████▎          | 16/28 [03:13<02:24, 12.08s/batches]"
     ]
    },
    {
     "name": "stdout",
     "output_type": "stream",
     "text": [
      "Loss:     1.9983 Validation Accuracy: 0.442333\n",
      "Epoch  1, Batch 16:  "
     ]
    },
    {
     "name": "stderr",
     "output_type": "stream",
     "text": [
      "\n",
      "Epoch  1/1:  61%|███████████████▏         | 17/28 [03:26<02:13, 12.15s/batches]"
     ]
    },
    {
     "name": "stdout",
     "output_type": "stream",
     "text": [
      "Loss:     1.9688 Validation Accuracy: 0.478667\n",
      "Epoch  1, Batch 17:  "
     ]
    },
    {
     "name": "stderr",
     "output_type": "stream",
     "text": [
      "\n",
      "Epoch  1/1:  64%|████████████████         | 18/28 [03:39<02:01, 12.19s/batches]"
     ]
    },
    {
     "name": "stdout",
     "output_type": "stream",
     "text": [
      "Loss:     1.9524 Validation Accuracy: 0.505333\n",
      "Epoch  1, Batch 18:  "
     ]
    },
    {
     "name": "stderr",
     "output_type": "stream",
     "text": [
      "\n",
      "Epoch  1/1:  68%|████████████████▉        | 19/28 [03:53<01:50, 12.27s/batches]"
     ]
    },
    {
     "name": "stdout",
     "output_type": "stream",
     "text": [
      "Loss:     1.9152 Validation Accuracy: 0.523333\n",
      "Epoch  1, Batch 19:  "
     ]
    },
    {
     "name": "stderr",
     "output_type": "stream",
     "text": [
      "\n",
      "Epoch  1/1:  71%|█████████████████▊       | 20/28 [04:05<01:38, 12.28s/batches]"
     ]
    },
    {
     "name": "stdout",
     "output_type": "stream",
     "text": [
      "Loss:     1.8930 Validation Accuracy: 0.537333\n",
      "Epoch  1, Batch 20:  "
     ]
    },
    {
     "name": "stderr",
     "output_type": "stream",
     "text": [
      "\n",
      "Epoch  1/1:  75%|██████████████████▊      | 21/28 [04:17<01:25, 12.25s/batches]"
     ]
    },
    {
     "name": "stdout",
     "output_type": "stream",
     "text": [
      "Loss:     1.8694 Validation Accuracy: 0.558333\n",
      "Epoch  1, Batch 21:  "
     ]
    },
    {
     "name": "stderr",
     "output_type": "stream",
     "text": [
      "\n",
      "Epoch  1/1:  79%|███████████████████▋     | 22/28 [04:30<01:13, 12.29s/batches]"
     ]
    },
    {
     "name": "stdout",
     "output_type": "stream",
     "text": [
      "Loss:     1.8202 Validation Accuracy: 0.569000\n",
      "Epoch  1, Batch 22:  "
     ]
    },
    {
     "name": "stderr",
     "output_type": "stream",
     "text": [
      "\n",
      "Epoch  1/1:  82%|████████████████████▌    | 23/28 [04:42<01:01, 12.29s/batches]"
     ]
    },
    {
     "name": "stdout",
     "output_type": "stream",
     "text": [
      "Loss:     1.8154 Validation Accuracy: 0.573000\n",
      "Epoch  1, Batch 23:  "
     ]
    },
    {
     "name": "stderr",
     "output_type": "stream",
     "text": [
      "\n",
      "Epoch  1/1:  86%|█████████████████████▍   | 24/28 [04:55<00:49, 12.31s/batches]"
     ]
    },
    {
     "name": "stdout",
     "output_type": "stream",
     "text": [
      "Loss:     1.7712 Validation Accuracy: 0.580333\n",
      "Epoch  1, Batch 24:  "
     ]
    },
    {
     "name": "stderr",
     "output_type": "stream",
     "text": [
      "\n",
      "Epoch  1/1:  89%|██████████████████████▎  | 25/28 [05:07<00:36, 12.29s/batches]"
     ]
    },
    {
     "name": "stdout",
     "output_type": "stream",
     "text": [
      "Loss:     1.7308 Validation Accuracy: 0.592333\n",
      "Epoch  1, Batch 25:  "
     ]
    },
    {
     "name": "stderr",
     "output_type": "stream",
     "text": [
      "\n",
      "Epoch  1/1:  93%|███████████████████████▏ | 26/28 [05:19<00:24, 12.30s/batches]"
     ]
    },
    {
     "name": "stdout",
     "output_type": "stream",
     "text": [
      "Loss:     1.6896 Validation Accuracy: 0.604333\n",
      "Epoch  1, Batch 26:  "
     ]
    },
    {
     "name": "stderr",
     "output_type": "stream",
     "text": [
      "\n",
      "Epoch  1/1:  96%|████████████████████████ | 27/28 [05:32<00:12, 12.30s/batches]"
     ]
    },
    {
     "name": "stdout",
     "output_type": "stream",
     "text": [
      "Loss:     1.6664 Validation Accuracy: 0.620000\n",
      "Epoch  1, Batch 27:  "
     ]
    },
    {
     "name": "stderr",
     "output_type": "stream",
     "text": [
      "\n",
      "Epoch  1/1: 100%|█████████████████████████| 28/28 [05:42<00:00, 12.24s/batches]\n"
     ]
    }
   ],
   "source": [
    "print('Checking the Training on a Single Batch...')\n",
    "features, labels, keep_prob, logits, cost, accuracy, optimizer = cnn_model()\n",
    "train_features, valid_features, train_labels, valid_labels, test_data, test_label = get_data()\n",
    "# The accuracy measured against the validation set\n",
    "validation_accuracy = 0.0\n",
    "\n",
    "#train_features = train_features.reshape(57000, IMAGE_SIZE, IMAGE_SIZE, 1)\n",
    "#valid_features = valid_features.reshape(3000, IMAGE_SIZE, IMAGE_SIZE, 1)\n",
    "train_feed_dict = {features: train_features, labels: train_labels, keep_prob:keep_probability}\n",
    "valid_feed_dict = {features: valid_features, labels: valid_labels, keep_prob:keep_probability}\n",
    "\n",
    " \n",
    "with tf.Session() as sess:\n",
    "    # Initializing the variables\n",
    "    sess.run(tf.global_variables_initializer())\n",
    "    batch_count = int(math.ceil(len(train_features)/batch_size))\n",
    "    # Training cycle\n",
    "    for epoch_i in range(epochs):\n",
    "        batches_pbar = tqdm(range(batch_count), desc='Epoch {:>2}/{}'.format(epoch_i+1, epochs), unit='batches')\n",
    "        # display((batch_count))\n",
    "        # The training cycle\n",
    "        for batch_i in batches_pbar:\n",
    "                # Get a batch of training features and labels\n",
    "            batch_start = batch_i*batch_size\n",
    "            batch_features = train_features[batch_start:batch_start + batch_size]\n",
    "            batch_labels = train_labels[batch_start:batch_start + batch_size]\n",
    "\n",
    "            # Run optimizer and get loss\n",
    "            train_neural_network(sess, optimizer, keep_probability, \n",
    "                                 batch_features, batch_labels,\n",
    "                                 features, labels, keep_prob)\n",
    "            #validation_accuracy = sess.run(accuracy, feed_dict=valid_feed_dict)\n",
    "            print_stats(sess, batch_features, batch_labels, cost, accuracy, \n",
    "                        features, labels, keep_prob)\n",
    "        \n",
    "            print('Epoch {:>2}, Batch {}:  '.format(epoch_i + 1, batch_i), end='')\n",
    "            #print('Validation accuracy at {}'.format(validation_accuracy))\n",
    "        "
   ]
  },
  {
   "cell_type": "markdown",
   "metadata": {},
   "source": [
    "### Fully Train the Model\n",
    "Now that you got a good accuracy with a single batch, try it with all batches."
   ]
  },
  {
   "cell_type": "code",
   "execution_count": 34,
   "metadata": {},
   "outputs": [],
   "source": [
    "def train_model():\n",
    "#train_features, train_labels, valid_features, valid_labels, test_data, test_label):\n",
    "    \n",
    "    print('Training...')\n",
    "        # Feed dicts for training, validation, and test session\n",
    "    validation_accuracy = 0.0\n",
    "    log_batch_step = 10\n",
    "    batches = []\n",
    "    loss_batch = []\n",
    "    train_acc_batch = []\n",
    "    valid_acc_batch = []\n",
    "    \n",
    "    features, labels, keep_prob, logits, cost, accuracy, optimizer = cnn_model()\n",
    "\n",
    "    train_feed_dict = {features: train_features, labels: train_labels, keep_prob:keep_probability}\n",
    "    valid_feed_dict = {features: valid_features, labels: valid_labels, keep_prob:keep_probability}\n",
    " \n",
    "    with tf.Session() as sess:\n",
    "        # Initializing the variables\n",
    "        sess.run(tf.global_variables_initializer())\n",
    "        batch_count = int(math.ceil(len(train_features)/batch_size))\n",
    "        # Training cycle\n",
    "        for epoch_i in range(epochs):\n",
    "            avg_cost = 0\n",
    "            # Progress bar\n",
    "            batches_pbar = tqdm(range(batch_count), desc='Epoch {:>2}/{}'.format(epoch_i+1, epochs), unit='batches')\n",
    "            # display((batch_count))\n",
    "            # The training cycle\n",
    "            for batch_i in batches_pbar:\n",
    "                # Get a batch of training features and labels\n",
    "                batch_start = batch_i*batch_size\n",
    "                batch_features = train_features[batch_start:batch_start + batch_size]\n",
    "                batch_labels = train_labels[batch_start:batch_start + batch_size]\n",
    "                # Run optimizer and get loss\n",
    "                _, l = sess.run(\n",
    "                        [optimizer, cost],\n",
    "                        feed_dict={features: batch_features, labels: batch_labels, keep_prob: keep_probability})\n",
    "                print_stats(sess, batch_features, batch_labels, \n",
    "                            cost, accuracy, features, labels, keep_prob)\n",
    "                  \n",
    "                avg_cost += l / batch_size\n",
    "                        \n",
    "                # Log every 50 batches\n",
    "                if not batch_i % log_batch_step:\n",
    "                    # Calculate Training and Validation accuracy\n",
    "                    training_accuracy = sess.run(accuracy, feed_dict=train_feed_dict)\n",
    "                    validation_accuracy = sess.run(accuracy, feed_dict=valid_feed_dict)\n",
    "                    # Log batches\n",
    "                    previous_batch = batches[-1] if batches else 0\n",
    "                    batches.append(log_batch_step + previous_batch)\n",
    "                    loss_batch.append(l)\n",
    "                    train_acc_batch.append(training_accuracy)\n",
    "                    valid_acc_batch.append(validation_accuracy)\n",
    "                #train_neural_network(sess, optimizer, keep_probability, batch_features, batch_labels)\n",
    "                #print('Epoch {:>2}, Batch {}:  '.format(epoch_i + 1, batch_i), end='')\n",
    "                #print_stats(sess, batch_features, batch_labels, cost, accuracy, valid_features, valid_labels)\n",
    "               # print('Loss: {:>10.4f} Validation Accuracy: {:.6f}'.format(\n",
    "               #                                                     l,\n",
    "               #                                                     validation_accuracy))   \n",
    "            print (\"Epoch:\", (epoch_i+1), \"cost =\", \"{:.5f}\".format(avg_cost))\n",
    "            # Check accuracy against Validation data\n",
    "            validation_accuracy = sess.run(accuracy, feed_dict=valid_feed_dict)\n",
    "            print('Validation accuracy at {}'.format(validation_accuracy))\n",
    "\n",
    "        # Save Model\n",
    "        saver = tf.train.Saver()\n",
    "        save_path = saver.save(sess, save_model_path)\n",
    "\n",
    "    loss_plot = plt.subplot(211)\n",
    "    loss_plot.set_title('Loss')\n",
    "    loss_plot.plot(batches, loss_batch, 'g')\n",
    "    loss_plot.set_xlim([batches[0], batches[-1]])\n",
    "    acc_plot = plt.subplot(212)\n",
    "    acc_plot.set_title('Accuracy')\n",
    "    acc_plot.plot(batches, train_acc_batch, 'r', label='Training Accuracy')\n",
    "    acc_plot.plot(batches, valid_acc_batch, 'x', label='Validation Accuracy')\n",
    "    acc_plot.set_ylim([0, 1.0])\n",
    "    acc_plot.set_xlim([batches[0], batches[-1]])\n",
    "    acc_plot.legend(loc=4)\n",
    "    plt.tight_layout()\n",
    "    plt.show()\n",
    "\n",
    "    print('Validation accuracy at {}'.format(validation_accuracy))\n",
    "    \n",
    "#train_features, valid_features, train_labels, valid_labels, test_data, test_label = get_data()\n",
    "#train_model(train_features, train_labels, valid_features, valid_labels, test_data, test_label)\n"
   ]
  },
  {
   "cell_type": "markdown",
   "metadata": {},
   "source": [
    "### Checkpoint\n",
    "The model has been saved to disk.\n",
    "Test Model\n",
    "Test your model against the test dataset. This will be your final accuracy. You should have an accuracy greater than 50%. If you don't, keep tweaking the model architecture and parameters."
   ]
  },
  {
   "cell_type": "code",
   "execution_count": 40,
   "metadata": {},
   "outputs": [],
   "source": [
    "def test_model():\n",
    "    \"\"\"\n",
    "    Test the saved model against the test dataset\n",
    "    \"\"\"\n",
    "    loaded_graph = tf.Graph()\n",
    "\n",
    "    with tf.Session(graph=loaded_graph) as sess:\n",
    "        # Load model\n",
    "        loader = tf.train.import_meta_graph(save_model_path + '.meta')\n",
    "        loader.restore(sess, save_model_path)\n",
    "\n",
    "        # Get Tensors from loaded model\n",
    "        loaded_x = loaded_graph.get_tensor_by_name('features:0')\n",
    "        loaded_y = loaded_graph.get_tensor_by_name('label:0')\n",
    "        loaded_keep_prob = loaded_graph.get_tensor_by_name('keep_probability:0')\n",
    "        loaded_logits = loaded_graph.get_tensor_by_name('logits:0')\n",
    "        loaded_acc = loaded_graph.get_tensor_by_name('accuracy:0')\n",
    "        \n",
    "        test_accuracy = sess.run(loaded_acc, feed_dict={loaded_x: test_data, loaded_y: test_label, loaded_keep_prob: 1.0})\n",
    "        \n",
    "        print('Test Accuracy is {}'.format(test_accuracy))\n",
    "\n",
    "       "
   ]
  },
  {
   "cell_type": "code",
   "execution_count": null,
   "metadata": {},
   "outputs": [
    {
     "name": "stdout",
     "output_type": "stream",
     "text": [
      "data processing\n",
      "get_data\n",
      "downloading train-images-idx3-ubyte.gz\n",
      "downloading train-labels-idx1-ubyte.gz\n",
      "downloading t10k-images-idx3-ubyte.gz\n",
      "downloading t10k-labels-idx1-ubyte.gz\n",
      "Extracting mnist\\train-images-idx3-ubyte.gz\n",
      "Extracting mnist\\train-labels-idx1-ubyte.gz\n",
      "Extracting mnist\\t10k-images-idx3-ubyte.gz\n",
      "Extracting mnist\\t10k-labels-idx1-ubyte.gz\n",
      "All features and labels uncompressed.\n",
      "Training features and labels randomized and split.\n",
      "Training...\n"
     ]
    },
    {
     "data": {
      "text/plain": [
       "[None, 28, 28, 18]"
      ]
     },
     "metadata": {},
     "output_type": "display_data"
    },
    {
     "data": {
      "text/plain": [
       "[None, 14112]"
      ]
     },
     "metadata": {},
     "output_type": "display_data"
    },
    {
     "name": "stdout",
     "output_type": "stream",
     "text": [
      "(?, 14112)\n",
      "(14112, 200) (200,)\n",
      "[200, 10]\n"
     ]
    },
    {
     "name": "stderr",
     "output_type": "stream",
     "text": [
      "\r",
      "Epoch  1/10:   0%|                                 | 0/14 [00:00<?, ?batches/s]"
     ]
    },
    {
     "name": "stdout",
     "output_type": "stream",
     "text": [
      "Loss:     2.2399 Validation Accuracy: 0.163333\n"
     ]
    },
    {
     "name": "stderr",
     "output_type": "stream",
     "text": [
      "\r",
      "Epoch  1/10:   7%|█▋                      | 1/14 [01:59<25:55, 119.65s/batches]"
     ]
    },
    {
     "name": "stdout",
     "output_type": "stream",
     "text": [
      "Loss:     2.1355 Validation Accuracy: 0.371333\n"
     ]
    },
    {
     "name": "stderr",
     "output_type": "stream",
     "text": [
      "\r",
      "Epoch  1/10:  14%|███▌                     | 2/14 [02:26<14:36, 73.03s/batches]"
     ]
    },
    {
     "name": "stdout",
     "output_type": "stream",
     "text": [
      "Loss:     2.0424 Validation Accuracy: 0.423000\n"
     ]
    },
    {
     "name": "stderr",
     "output_type": "stream",
     "text": [
      "\r",
      "Epoch  1/10:  21%|█████▎                   | 3/14 [02:50<10:26, 56.94s/batches]"
     ]
    },
    {
     "name": "stdout",
     "output_type": "stream",
     "text": [
      "Loss:     1.9369 Validation Accuracy: 0.530333\n"
     ]
    },
    {
     "name": "stderr",
     "output_type": "stream",
     "text": [
      "\r",
      "Epoch  1/10:  29%|███████▏                 | 4/14 [03:16<08:10, 49.09s/batches]"
     ]
    },
    {
     "name": "stdout",
     "output_type": "stream",
     "text": [
      "Loss:     1.8355 Validation Accuracy: 0.705667\n"
     ]
    },
    {
     "name": "stderr",
     "output_type": "stream",
     "text": [
      "\r",
      "Epoch  1/10:  36%|████████▉                | 5/14 [03:42<06:40, 44.46s/batches]"
     ]
    },
    {
     "name": "stdout",
     "output_type": "stream",
     "text": [
      "Loss:     1.7119 Validation Accuracy: 0.718667\n"
     ]
    },
    {
     "name": "stderr",
     "output_type": "stream",
     "text": [
      "\r",
      "Epoch  1/10:  43%|██████████▋              | 6/14 [04:07<05:29, 41.23s/batches]"
     ]
    },
    {
     "name": "stdout",
     "output_type": "stream",
     "text": [
      "Loss:     1.5914 Validation Accuracy: 0.745667\n"
     ]
    },
    {
     "name": "stderr",
     "output_type": "stream",
     "text": [
      "\r",
      "Epoch  1/10:  50%|████████████▌            | 7/14 [04:33<04:33, 39.05s/batches]"
     ]
    },
    {
     "name": "stdout",
     "output_type": "stream",
     "text": [
      "Loss:     1.4750 Validation Accuracy: 0.689000\n"
     ]
    },
    {
     "name": "stderr",
     "output_type": "stream",
     "text": [
      "\r",
      "Epoch  1/10:  57%|██████████████▎          | 8/14 [04:58<03:43, 37.29s/batches]"
     ]
    },
    {
     "name": "stdout",
     "output_type": "stream",
     "text": [
      "Loss:     1.3612 Validation Accuracy: 0.726333\n"
     ]
    },
    {
     "name": "stderr",
     "output_type": "stream",
     "text": [
      "\r",
      "Epoch  1/10:  64%|████████████████         | 9/14 [05:24<03:00, 36.10s/batches]"
     ]
    },
    {
     "name": "stdout",
     "output_type": "stream",
     "text": [
      "Loss:     1.2488 Validation Accuracy: 0.774000\n"
     ]
    },
    {
     "name": "stderr",
     "output_type": "stream",
     "text": [
      "\r",
      "Epoch  1/10:  71%|█████████████████▏      | 10/14 [05:50<02:20, 35.01s/batches]"
     ]
    },
    {
     "name": "stdout",
     "output_type": "stream",
     "text": [
      "Loss:     1.1438 Validation Accuracy: 0.788333\n"
     ]
    },
    {
     "name": "stderr",
     "output_type": "stream",
     "text": [
      "\r",
      "Epoch  1/10:  79%|██████████████████▊     | 11/14 [07:44<02:06, 42.22s/batches]"
     ]
    },
    {
     "name": "stdout",
     "output_type": "stream",
     "text": [
      "Loss:     1.0323 Validation Accuracy: 0.791667\n"
     ]
    },
    {
     "name": "stderr",
     "output_type": "stream",
     "text": [
      "\r",
      "Epoch  1/10:  86%|████████████████████▌   | 12/14 [08:11<01:21, 40.96s/batches]"
     ]
    },
    {
     "name": "stdout",
     "output_type": "stream",
     "text": [
      "Loss:     0.9381 Validation Accuracy: 0.792667\n"
     ]
    },
    {
     "name": "stderr",
     "output_type": "stream",
     "text": [
      "\r",
      "Epoch  1/10:  93%|██████████████████████▎ | 13/14 [08:37<00:39, 39.82s/batches]"
     ]
    },
    {
     "name": "stdout",
     "output_type": "stream",
     "text": [
      "Loss:     0.8550 Validation Accuracy: 0.801667\n"
     ]
    },
    {
     "name": "stderr",
     "output_type": "stream",
     "text": [
      "Epoch  1/10: 100%|████████████████████████| 14/14 [09:01<00:00, 38.70s/batches]\n"
     ]
    },
    {
     "name": "stdout",
     "output_type": "stream",
     "text": [
      "Epoch: 1 cost = 0.00563\n",
      "Validation accuracy at 0.8016666769981384\n"
     ]
    },
    {
     "name": "stderr",
     "output_type": "stream",
     "text": [
      "\r",
      "Epoch  2/10:   0%|                                 | 0/14 [00:00<?, ?batches/s]"
     ]
    },
    {
     "name": "stdout",
     "output_type": "stream",
     "text": [
      "Loss:     0.7747 Validation Accuracy: 0.804333\n"
     ]
    },
    {
     "name": "stderr",
     "output_type": "stream",
     "text": [
      "\r",
      "Epoch  2/10:   7%|█▋                      | 1/14 [01:49<23:40, 109.30s/batches]"
     ]
    },
    {
     "name": "stdout",
     "output_type": "stream",
     "text": [
      "Loss:     0.7302 Validation Accuracy: 0.817000\n"
     ]
    },
    {
     "name": "stderr",
     "output_type": "stream",
     "text": [
      "\r",
      "Epoch  2/10:  14%|███▌                     | 2/14 [02:15<13:31, 67.61s/batches]"
     ]
    },
    {
     "name": "stdout",
     "output_type": "stream",
     "text": [
      "Loss:     0.6877 Validation Accuracy: 0.820667\n"
     ]
    },
    {
     "name": "stderr",
     "output_type": "stream",
     "text": [
      "\r",
      "Epoch  2/10:  21%|█████▎                   | 3/14 [02:41<09:53, 53.96s/batches]"
     ]
    },
    {
     "name": "stdout",
     "output_type": "stream",
     "text": [
      "Loss:     0.6128 Validation Accuracy: 0.834000\n"
     ]
    },
    {
     "name": "stderr",
     "output_type": "stream",
     "text": [
      "\r",
      "Epoch  2/10:  29%|███████▏                 | 4/14 [03:08<07:51, 47.14s/batches]"
     ]
    },
    {
     "name": "stdout",
     "output_type": "stream",
     "text": [
      "Loss:     0.5886 Validation Accuracy: 0.844667\n"
     ]
    },
    {
     "name": "stderr",
     "output_type": "stream",
     "text": [
      "\r",
      "Epoch  2/10:  36%|████████▉                | 5/14 [03:35<06:28, 43.18s/batches]"
     ]
    },
    {
     "name": "stdout",
     "output_type": "stream",
     "text": [
      "Loss:     0.5367 Validation Accuracy: 0.846667\n"
     ]
    },
    {
     "name": "stderr",
     "output_type": "stream",
     "text": [
      "\r",
      "Epoch  2/10:  43%|██████████▋              | 6/14 [04:02<05:23, 40.42s/batches]"
     ]
    },
    {
     "name": "stdout",
     "output_type": "stream",
     "text": [
      "Loss:     0.4970 Validation Accuracy: 0.856667\n"
     ]
    },
    {
     "name": "stderr",
     "output_type": "stream",
     "text": [
      "\r",
      "Epoch  2/10:  50%|████████████▌            | 7/14 [04:29<04:29, 38.55s/batches]"
     ]
    },
    {
     "name": "stdout",
     "output_type": "stream",
     "text": [
      "Loss:     0.4791 Validation Accuracy: 0.865333\n"
     ]
    },
    {
     "name": "stderr",
     "output_type": "stream",
     "text": [
      "\r",
      "Epoch  2/10:  57%|██████████████▎          | 8/14 [04:56<03:42, 37.08s/batches]"
     ]
    },
    {
     "name": "stdout",
     "output_type": "stream",
     "text": [
      "Loss:     0.4376 Validation Accuracy: 0.872667\n"
     ]
    },
    {
     "name": "stderr",
     "output_type": "stream",
     "text": [
      "\r",
      "Epoch  2/10:  64%|████████████████         | 9/14 [05:22<02:59, 35.84s/batches]"
     ]
    },
    {
     "name": "stdout",
     "output_type": "stream",
     "text": [
      "Loss:     0.4350 Validation Accuracy: 0.882000\n"
     ]
    },
    {
     "name": "stderr",
     "output_type": "stream",
     "text": [
      "\r",
      "Epoch  2/10:  71%|█████████████████▏      | 10/14 [05:49<02:19, 34.91s/batches]"
     ]
    },
    {
     "name": "stdout",
     "output_type": "stream",
     "text": [
      "Loss:     0.4064 Validation Accuracy: 0.889333\n"
     ]
    },
    {
     "name": "stderr",
     "output_type": "stream",
     "text": [
      "\r",
      "Epoch  2/10:  79%|██████████████████▊     | 11/14 [07:44<02:06, 42.20s/batches]"
     ]
    },
    {
     "name": "stdout",
     "output_type": "stream",
     "text": [
      "Loss:     0.3937 Validation Accuracy: 0.895000\n"
     ]
    },
    {
     "name": "stderr",
     "output_type": "stream",
     "text": [
      "\r",
      "Epoch  2/10:  86%|████████████████████▌   | 12/14 [08:11<01:21, 40.93s/batches]"
     ]
    },
    {
     "name": "stdout",
     "output_type": "stream",
     "text": [
      "Loss:     0.3478 Validation Accuracy: 0.900667\n"
     ]
    },
    {
     "name": "stderr",
     "output_type": "stream",
     "text": [
      "\r",
      "Epoch  2/10:  93%|██████████████████████▎ | 13/14 [08:37<00:39, 39.82s/batches]"
     ]
    },
    {
     "name": "stdout",
     "output_type": "stream",
     "text": [
      "Loss:     0.3325 Validation Accuracy: 0.904667\n"
     ]
    },
    {
     "name": "stderr",
     "output_type": "stream",
     "text": [
      "Epoch  2/10: 100%|████████████████████████| 14/14 [09:03<00:00, 38.82s/batches]\n"
     ]
    },
    {
     "name": "stdout",
     "output_type": "stream",
     "text": [
      "Epoch: 2 cost = 0.00191\n",
      "Validation accuracy at 0.9046666622161865\n"
     ]
    },
    {
     "name": "stderr",
     "output_type": "stream",
     "text": [
      "\r",
      "Epoch  3/10:   0%|                                 | 0/14 [00:00<?, ?batches/s]"
     ]
    },
    {
     "name": "stdout",
     "output_type": "stream",
     "text": [
      "Loss:     0.3175 Validation Accuracy: 0.909333\n"
     ]
    },
    {
     "name": "stderr",
     "output_type": "stream",
     "text": [
      "\r",
      "Epoch  3/10:   7%|█▋                      | 1/14 [01:50<24:00, 110.77s/batches]"
     ]
    },
    {
     "name": "stdout",
     "output_type": "stream",
     "text": [
      "Loss:     0.3034 Validation Accuracy: 0.917333\n"
     ]
    },
    {
     "name": "stderr",
     "output_type": "stream",
     "text": [
      "\r",
      "Epoch  3/10:  14%|███▌                     | 2/14 [02:18<13:48, 69.02s/batches]"
     ]
    },
    {
     "name": "stdout",
     "output_type": "stream",
     "text": [
      "Loss:     0.3358 Validation Accuracy: 0.917000\n"
     ]
    },
    {
     "name": "stderr",
     "output_type": "stream",
     "text": [
      "\r",
      "Epoch  3/10:  21%|█████▎                   | 3/14 [02:44<10:04, 54.99s/batches]"
     ]
    },
    {
     "name": "stdout",
     "output_type": "stream",
     "text": [
      "Loss:     0.2894 Validation Accuracy: 0.921333\n"
     ]
    },
    {
     "name": "stderr",
     "output_type": "stream",
     "text": [
      "\r",
      "Epoch  3/10:  29%|███████▏                 | 4/14 [03:11<07:58, 47.86s/batches]"
     ]
    },
    {
     "name": "stdout",
     "output_type": "stream",
     "text": [
      "Loss:     0.2839 Validation Accuracy: 0.920667\n"
     ]
    },
    {
     "name": "stderr",
     "output_type": "stream",
     "text": [
      "\r",
      "Epoch  3/10:  36%|████████▉                | 5/14 [03:37<06:31, 43.51s/batches]"
     ]
    },
    {
     "name": "stdout",
     "output_type": "stream",
     "text": [
      "Loss:     0.2739 Validation Accuracy: 0.927333\n"
     ]
    },
    {
     "name": "stderr",
     "output_type": "stream",
     "text": [
      "\r",
      "Epoch  3/10:  43%|██████████▋              | 6/14 [04:03<05:24, 40.54s/batches]"
     ]
    },
    {
     "name": "stdout",
     "output_type": "stream",
     "text": [
      "Loss:     0.2551 Validation Accuracy: 0.930000\n"
     ]
    },
    {
     "name": "stderr",
     "output_type": "stream",
     "text": [
      "\r",
      "Epoch  3/10:  50%|████████████▌            | 7/14 [04:29<04:29, 38.55s/batches]"
     ]
    },
    {
     "name": "stdout",
     "output_type": "stream",
     "text": [
      "Loss:     0.2607 Validation Accuracy: 0.926333\n"
     ]
    },
    {
     "name": "stderr",
     "output_type": "stream",
     "text": [
      "\r",
      "Epoch  3/10:  57%|██████████████▎          | 8/14 [04:55<03:41, 36.98s/batches]"
     ]
    },
    {
     "name": "stdout",
     "output_type": "stream",
     "text": [
      "Loss:     0.2217 Validation Accuracy: 0.930667\n"
     ]
    },
    {
     "name": "stderr",
     "output_type": "stream",
     "text": [
      "\r",
      "Epoch  3/10:  64%|████████████████         | 9/14 [05:22<02:59, 35.86s/batches]"
     ]
    },
    {
     "name": "stdout",
     "output_type": "stream",
     "text": [
      "Loss:     0.2386 Validation Accuracy: 0.937000\n"
     ]
    },
    {
     "name": "stderr",
     "output_type": "stream",
     "text": [
      "\r",
      "Epoch  3/10:  71%|█████████████████▏      | 10/14 [05:49<02:19, 34.92s/batches]"
     ]
    },
    {
     "name": "stdout",
     "output_type": "stream",
     "text": [
      "Loss:     0.2325 Validation Accuracy: 0.934667\n"
     ]
    },
    {
     "name": "stderr",
     "output_type": "stream",
     "text": [
      "\r",
      "Epoch  3/10:  79%|██████████████████▊     | 11/14 [07:42<02:06, 42.04s/batches]"
     ]
    },
    {
     "name": "stdout",
     "output_type": "stream",
     "text": [
      "Loss:     0.2328 Validation Accuracy: 0.937000\n"
     ]
    },
    {
     "name": "stderr",
     "output_type": "stream",
     "text": [
      "\r",
      "Epoch  3/10:  86%|████████████████████▌   | 12/14 [08:09<01:21, 40.76s/batches]"
     ]
    },
    {
     "name": "stdout",
     "output_type": "stream",
     "text": [
      "Loss:     0.2089 Validation Accuracy: 0.934333\n"
     ]
    },
    {
     "name": "stderr",
     "output_type": "stream",
     "text": [
      "\r",
      "Epoch  3/10:  93%|██████████████████████▎ | 13/14 [08:34<00:39, 39.59s/batches]"
     ]
    },
    {
     "name": "stdout",
     "output_type": "stream",
     "text": [
      "Loss:     0.2019 Validation Accuracy: 0.938333\n"
     ]
    },
    {
     "name": "stderr",
     "output_type": "stream",
     "text": [
      "Epoch  3/10: 100%|████████████████████████| 14/14 [08:59<00:00, 38.54s/batches]\n"
     ]
    },
    {
     "name": "stdout",
     "output_type": "stream",
     "text": [
      "Epoch: 3 cost = 0.00094\n",
      "Validation accuracy at 0.9383333325386047\n"
     ]
    },
    {
     "name": "stderr",
     "output_type": "stream",
     "text": [
      "\r",
      "Epoch  4/10:   0%|                                 | 0/14 [00:00<?, ?batches/s]"
     ]
    },
    {
     "name": "stdout",
     "output_type": "stream",
     "text": [
      "Loss:     0.1910 Validation Accuracy: 0.949000\n"
     ]
    },
    {
     "name": "stderr",
     "output_type": "stream",
     "text": [
      "\r",
      "Epoch  4/10:   7%|█▋                      | 1/14 [01:50<24:00, 110.82s/batches]"
     ]
    },
    {
     "name": "stdout",
     "output_type": "stream",
     "text": [
      "Loss:     0.1871 Validation Accuracy: 0.946000\n"
     ]
    },
    {
     "name": "stderr",
     "output_type": "stream",
     "text": [
      "\r",
      "Epoch  4/10:  14%|███▌                     | 2/14 [02:16<13:36, 68.07s/batches]"
     ]
    },
    {
     "name": "stdout",
     "output_type": "stream",
     "text": [
      "Loss:     0.2276 Validation Accuracy: 0.948333\n"
     ]
    },
    {
     "name": "stderr",
     "output_type": "stream",
     "text": [
      "\r",
      "Epoch  4/10:  21%|█████▎                   | 3/14 [02:42<09:57, 54.33s/batches]"
     ]
    },
    {
     "name": "stdout",
     "output_type": "stream",
     "text": [
      "Loss:     0.1833 Validation Accuracy: 0.948333\n"
     ]
    },
    {
     "name": "stderr",
     "output_type": "stream",
     "text": [
      "\r",
      "Epoch  4/10:  29%|███████▏                 | 4/14 [03:08<07:51, 47.10s/batches]"
     ]
    },
    {
     "name": "stdout",
     "output_type": "stream",
     "text": [
      "Loss:     0.1834 Validation Accuracy: 0.949667\n"
     ]
    },
    {
     "name": "stderr",
     "output_type": "stream",
     "text": [
      "\r",
      "Epoch  4/10:  36%|████████▉                | 5/14 [03:34<06:26, 42.91s/batches]"
     ]
    },
    {
     "name": "stdout",
     "output_type": "stream",
     "text": [
      "Loss:     0.1836 Validation Accuracy: 0.950667\n"
     ]
    },
    {
     "name": "stderr",
     "output_type": "stream",
     "text": [
      "\r",
      "Epoch  4/10:  43%|██████████▋              | 6/14 [04:01<05:21, 40.17s/batches]"
     ]
    },
    {
     "name": "stdout",
     "output_type": "stream",
     "text": [
      "Loss:     0.1694 Validation Accuracy: 0.952333\n"
     ]
    },
    {
     "name": "stderr",
     "output_type": "stream",
     "text": [
      "\r",
      "Epoch  4/10:  50%|████████████▌            | 7/14 [04:27<04:27, 38.21s/batches]"
     ]
    },
    {
     "name": "stdout",
     "output_type": "stream",
     "text": [
      "Loss:     0.1689 Validation Accuracy: 0.953333\n"
     ]
    },
    {
     "name": "stderr",
     "output_type": "stream",
     "text": [
      "\r",
      "Epoch  4/10:  57%|██████████████▎          | 8/14 [04:53<03:40, 36.72s/batches]"
     ]
    },
    {
     "name": "stdout",
     "output_type": "stream",
     "text": [
      "Loss:     0.1440 Validation Accuracy: 0.954333\n"
     ]
    },
    {
     "name": "stderr",
     "output_type": "stream",
     "text": [
      "\r",
      "Epoch  4/10:  64%|████████████████         | 9/14 [05:19<02:57, 35.55s/batches]"
     ]
    },
    {
     "name": "stdout",
     "output_type": "stream",
     "text": [
      "Loss:     0.1614 Validation Accuracy: 0.957667\n"
     ]
    },
    {
     "name": "stderr",
     "output_type": "stream",
     "text": [
      "\r",
      "Epoch  4/10:  71%|█████████████████▏      | 10/14 [05:46<02:18, 34.62s/batches]"
     ]
    },
    {
     "name": "stdout",
     "output_type": "stream",
     "text": [
      "Loss:     0.1479 Validation Accuracy: 0.957667\n"
     ]
    },
    {
     "name": "stderr",
     "output_type": "stream",
     "text": [
      "\r",
      "Epoch  4/10:  79%|██████████████████▊     | 11/14 [07:33<02:03, 41.25s/batches]"
     ]
    },
    {
     "name": "stdout",
     "output_type": "stream",
     "text": [
      "Loss:     0.1606 Validation Accuracy: 0.958667\n"
     ]
    },
    {
     "name": "stderr",
     "output_type": "stream",
     "text": [
      "\r",
      "Epoch  4/10:  86%|████████████████████▌   | 12/14 [08:00<01:20, 40.00s/batches]"
     ]
    },
    {
     "name": "stdout",
     "output_type": "stream",
     "text": [
      "Loss:     0.1412 Validation Accuracy: 0.957000\n"
     ]
    },
    {
     "name": "stderr",
     "output_type": "stream",
     "text": [
      "\r",
      "Epoch  4/10:  93%|██████████████████████▎ | 13/14 [08:26<00:38, 38.99s/batches]"
     ]
    },
    {
     "name": "stdout",
     "output_type": "stream",
     "text": [
      "Loss:     0.1439 Validation Accuracy: 0.957000\n"
     ]
    },
    {
     "name": "stderr",
     "output_type": "stream",
     "text": [
      "Epoch  4/10: 100%|████████████████████████| 14/14 [08:51<00:00, 37.97s/batches]\n"
     ]
    },
    {
     "name": "stdout",
     "output_type": "stream",
     "text": [
      "Epoch: 4 cost = 0.00060\n",
      "Validation accuracy at 0.9570000171661377\n"
     ]
    },
    {
     "name": "stderr",
     "output_type": "stream",
     "text": [
      "\r",
      "Epoch  5/10:   0%|                                 | 0/14 [00:00<?, ?batches/s]"
     ]
    },
    {
     "name": "stdout",
     "output_type": "stream",
     "text": [
      "Loss:     0.1395 Validation Accuracy: 0.959333\n"
     ]
    },
    {
     "name": "stderr",
     "output_type": "stream",
     "text": [
      "\r",
      "Epoch  5/10:   7%|█▋                      | 1/14 [01:47<23:15, 107.38s/batches]"
     ]
    },
    {
     "name": "stdout",
     "output_type": "stream",
     "text": [
      "Loss:     0.1268 Validation Accuracy: 0.960333\n"
     ]
    },
    {
     "name": "stderr",
     "output_type": "stream",
     "text": [
      "\r",
      "Epoch  5/10:  14%|███▌                     | 2/14 [02:12<13:14, 66.23s/batches]"
     ]
    },
    {
     "name": "stdout",
     "output_type": "stream",
     "text": [
      "Loss:     0.1643 Validation Accuracy: 0.961667\n"
     ]
    },
    {
     "name": "stderr",
     "output_type": "stream",
     "text": [
      "\r",
      "Epoch  5/10:  21%|█████▎                   | 3/14 [02:38<09:41, 52.90s/batches]"
     ]
    },
    {
     "name": "stdout",
     "output_type": "stream",
     "text": [
      "Loss:     0.1402 Validation Accuracy: 0.961333\n"
     ]
    },
    {
     "name": "stderr",
     "output_type": "stream",
     "text": [
      "\r",
      "Epoch  5/10:  29%|███████▏                 | 4/14 [03:05<07:42, 46.28s/batches]"
     ]
    },
    {
     "name": "stdout",
     "output_type": "stream",
     "text": [
      "Loss:     0.1344 Validation Accuracy: 0.965667\n"
     ]
    },
    {
     "name": "stderr",
     "output_type": "stream",
     "text": [
      "\r",
      "Epoch  5/10:  36%|████████▉                | 5/14 [03:31<06:20, 42.31s/batches]"
     ]
    },
    {
     "name": "stdout",
     "output_type": "stream",
     "text": [
      "Loss:     0.1325 Validation Accuracy: 0.965000\n"
     ]
    },
    {
     "name": "stderr",
     "output_type": "stream",
     "text": [
      "\r",
      "Epoch  5/10:  43%|██████████▋              | 6/14 [03:57<05:17, 39.65s/batches]"
     ]
    },
    {
     "name": "stdout",
     "output_type": "stream",
     "text": [
      "Loss:     0.1287 Validation Accuracy: 0.964333\n"
     ]
    },
    {
     "name": "stderr",
     "output_type": "stream",
     "text": [
      "\r",
      "Epoch  5/10:  50%|████████████▌            | 7/14 [04:24<04:24, 37.74s/batches]"
     ]
    },
    {
     "name": "stdout",
     "output_type": "stream",
     "text": [
      "Loss:     0.1302 Validation Accuracy: 0.965667\n"
     ]
    },
    {
     "name": "stderr",
     "output_type": "stream",
     "text": [
      "\r",
      "Epoch  5/10:  57%|██████████████▎          | 8/14 [04:49<03:36, 36.13s/batches]"
     ]
    },
    {
     "name": "stdout",
     "output_type": "stream",
     "text": [
      "Loss:     0.1118 Validation Accuracy: 0.966333\n"
     ]
    },
    {
     "name": "stderr",
     "output_type": "stream",
     "text": [
      "\r",
      "Epoch  5/10:  64%|████████████████         | 9/14 [05:15<02:55, 35.01s/batches]"
     ]
    },
    {
     "name": "stdout",
     "output_type": "stream",
     "text": [
      "Loss:     0.1254 Validation Accuracy: 0.967667\n"
     ]
    },
    {
     "name": "stderr",
     "output_type": "stream",
     "text": [
      "\r",
      "Epoch  5/10:  71%|█████████████████▏      | 10/14 [05:41<02:16, 34.12s/batches]"
     ]
    },
    {
     "name": "stdout",
     "output_type": "stream",
     "text": [
      "Loss:     0.1096 Validation Accuracy: 0.967333\n"
     ]
    },
    {
     "name": "stderr",
     "output_type": "stream",
     "text": [
      "\r",
      "Epoch  5/10:  79%|██████████████████▊     | 11/14 [07:45<02:07, 42.33s/batches]"
     ]
    },
    {
     "name": "stdout",
     "output_type": "stream",
     "text": [
      "Loss:     0.1270 Validation Accuracy: 0.968667\n"
     ]
    },
    {
     "name": "stderr",
     "output_type": "stream",
     "text": [
      "\r",
      "Epoch  5/10:  86%|████████████████████▌   | 12/14 [08:25<01:24, 42.11s/batches]"
     ]
    },
    {
     "name": "stdout",
     "output_type": "stream",
     "text": [
      "Loss:     0.1108 Validation Accuracy: 0.968000\n"
     ]
    },
    {
     "name": "stderr",
     "output_type": "stream",
     "text": [
      "\r",
      "Epoch  5/10:  93%|██████████████████████▎ | 13/14 [12:20<00:56, 56.95s/batches]"
     ]
    },
    {
     "name": "stdout",
     "output_type": "stream",
     "text": [
      "Loss:     0.1147 Validation Accuracy: 0.970333\n"
     ]
    },
    {
     "name": "stderr",
     "output_type": "stream",
     "text": [
      "Epoch  5/10: 100%|████████████████████████| 14/14 [12:44<00:00, 54.60s/batches]\n"
     ]
    },
    {
     "name": "stdout",
     "output_type": "stream",
     "text": [
      "Epoch: 5 cost = 0.00045\n",
      "Validation accuracy at 0.9703333377838135\n"
     ]
    },
    {
     "name": "stderr",
     "output_type": "stream",
     "text": [
      "\r",
      "Epoch  6/10:   0%|                                 | 0/14 [00:00<?, ?batches/s]"
     ]
    },
    {
     "name": "stdout",
     "output_type": "stream",
     "text": [
      "Loss:     0.1121 Validation Accuracy: 0.970000\n"
     ]
    },
    {
     "name": "stderr",
     "output_type": "stream",
     "text": [
      "\r",
      "Epoch  6/10:   7%|█▋                      | 1/14 [01:55<25:01, 115.50s/batches]"
     ]
    },
    {
     "name": "stdout",
     "output_type": "stream",
     "text": [
      "Loss:     0.0996 Validation Accuracy: 0.970000\n"
     ]
    },
    {
     "name": "stderr",
     "output_type": "stream",
     "text": [
      "\r",
      "Epoch  6/10:  14%|███▌                     | 2/14 [02:23<14:20, 71.73s/batches]"
     ]
    },
    {
     "name": "stdout",
     "output_type": "stream",
     "text": [
      "Loss:     0.1329 Validation Accuracy: 0.971333\n"
     ]
    },
    {
     "name": "stderr",
     "output_type": "stream",
     "text": [
      "\r",
      "Epoch  6/10:  21%|█████▎                   | 3/14 [02:51<10:27, 57.01s/batches]"
     ]
    },
    {
     "name": "stdout",
     "output_type": "stream",
     "text": [
      "Loss:     0.1135 Validation Accuracy: 0.971333\n"
     ]
    },
    {
     "name": "stderr",
     "output_type": "stream",
     "text": [
      "\r",
      "Epoch  6/10:  29%|███████▏                 | 4/14 [03:18<08:16, 49.63s/batches]"
     ]
    },
    {
     "name": "stdout",
     "output_type": "stream",
     "text": [
      "Loss:     0.1100 Validation Accuracy: 0.970667\n"
     ]
    },
    {
     "name": "stderr",
     "output_type": "stream",
     "text": [
      "\r",
      "Epoch  6/10:  36%|████████▉                | 5/14 [03:45<06:46, 45.18s/batches]"
     ]
    },
    {
     "name": "stdout",
     "output_type": "stream",
     "text": [
      "Loss:     0.1073 Validation Accuracy: 0.972667\n"
     ]
    },
    {
     "name": "stderr",
     "output_type": "stream",
     "text": [
      "\r",
      "Epoch  6/10:  43%|██████████▋              | 6/14 [04:19<05:45, 43.23s/batches]"
     ]
    },
    {
     "name": "stdout",
     "output_type": "stream",
     "text": [
      "Loss:     0.1050 Validation Accuracy: 0.973000\n"
     ]
    },
    {
     "name": "stderr",
     "output_type": "stream",
     "text": [
      "\r",
      "Epoch  6/10:  50%|████████████▌            | 7/14 [04:53<04:53, 41.98s/batches]"
     ]
    },
    {
     "name": "stdout",
     "output_type": "stream",
     "text": [
      "Loss:     0.1068 Validation Accuracy: 0.974333\n"
     ]
    },
    {
     "name": "stderr",
     "output_type": "stream",
     "text": [
      "\r",
      "Epoch  6/10:  57%|██████████████▎          | 8/14 [05:27<04:05, 40.92s/batches]"
     ]
    },
    {
     "name": "stdout",
     "output_type": "stream",
     "text": [
      "Loss:     0.0919 Validation Accuracy: 0.974667\n"
     ]
    },
    {
     "name": "stderr",
     "output_type": "stream",
     "text": [
      "\r",
      "Epoch  6/10:  64%|████████████████         | 9/14 [06:01<03:20, 40.14s/batches]"
     ]
    },
    {
     "name": "stdout",
     "output_type": "stream",
     "text": [
      "Loss:     0.1046 Validation Accuracy: 0.973667\n"
     ]
    },
    {
     "name": "stderr",
     "output_type": "stream",
     "text": [
      "\r",
      "Epoch  6/10:  71%|█████████████████▏      | 10/14 [06:34<02:37, 39.40s/batches]"
     ]
    },
    {
     "name": "stdout",
     "output_type": "stream",
     "text": [
      "Loss:     0.0893 Validation Accuracy: 0.973667\n"
     ]
    },
    {
     "name": "stderr",
     "output_type": "stream",
     "text": [
      "\r",
      "Epoch  6/10:  79%|██████████████████▊     | 11/14 [09:04<02:28, 49.46s/batches]"
     ]
    },
    {
     "name": "stdout",
     "output_type": "stream",
     "text": [
      "Loss:     0.1062 Validation Accuracy: 0.976000\n"
     ]
    },
    {
     "name": "stderr",
     "output_type": "stream",
     "text": [
      "\r",
      "Epoch  6/10:  86%|████████████████████▌   | 12/14 [09:40<01:36, 48.38s/batches]"
     ]
    },
    {
     "name": "stdout",
     "output_type": "stream",
     "text": [
      "Loss:     0.0922 Validation Accuracy: 0.975333\n"
     ]
    },
    {
     "name": "stderr",
     "output_type": "stream",
     "text": [
      "\r",
      "Epoch  6/10:  93%|██████████████████████▎ | 13/14 [10:14<00:47, 47.24s/batches]"
     ]
    },
    {
     "name": "stdout",
     "output_type": "stream",
     "text": [
      "Loss:     0.0975 Validation Accuracy: 0.975667\n"
     ]
    },
    {
     "name": "stderr",
     "output_type": "stream",
     "text": [
      "Epoch  6/10: 100%|████████████████████████| 14/14 [10:43<00:00, 46.00s/batches]\n"
     ]
    },
    {
     "name": "stdout",
     "output_type": "stream",
     "text": [
      "Epoch: 6 cost = 0.00037\n",
      "Validation accuracy at 0.9756666421890259\n"
     ]
    },
    {
     "name": "stderr",
     "output_type": "stream",
     "text": [
      "\r",
      "Epoch  7/10:   0%|                                 | 0/14 [00:00<?, ?batches/s]"
     ]
    },
    {
     "name": "stdout",
     "output_type": "stream",
     "text": [
      "Loss:     0.0931 Validation Accuracy: 0.977000\n"
     ]
    },
    {
     "name": "stderr",
     "output_type": "stream",
     "text": [
      "\r",
      "Epoch  7/10:   7%|█▋                      | 1/14 [02:28<32:04, 148.03s/batches]"
     ]
    },
    {
     "name": "stdout",
     "output_type": "stream",
     "text": [
      "Loss:     0.0822 Validation Accuracy: 0.977000\n"
     ]
    },
    {
     "name": "stderr",
     "output_type": "stream",
     "text": [
      "\r",
      "Epoch  7/10:  14%|███▌                     | 2/14 [03:01<18:08, 90.74s/batches]"
     ]
    },
    {
     "name": "stdout",
     "output_type": "stream",
     "text": [
      "Loss:     0.1137 Validation Accuracy: 0.977000\n"
     ]
    },
    {
     "name": "stderr",
     "output_type": "stream",
     "text": [
      "\r",
      "Epoch  7/10:  21%|█████▎                   | 3/14 [03:35<13:10, 71.85s/batches]"
     ]
    },
    {
     "name": "stdout",
     "output_type": "stream",
     "text": [
      "Loss:     0.0976 Validation Accuracy: 0.976667\n"
     ]
    },
    {
     "name": "stderr",
     "output_type": "stream",
     "text": [
      "\r",
      "Epoch  7/10:  29%|███████▏                 | 4/14 [04:07<10:18, 61.86s/batches]"
     ]
    },
    {
     "name": "stdout",
     "output_type": "stream",
     "text": [
      "Loss:     0.0940 Validation Accuracy: 0.978333\n"
     ]
    },
    {
     "name": "stderr",
     "output_type": "stream",
     "text": [
      "\r",
      "Epoch  7/10:  36%|████████▉                | 5/14 [04:41<08:26, 56.26s/batches]"
     ]
    },
    {
     "name": "stdout",
     "output_type": "stream",
     "text": [
      "Loss:     0.0921 Validation Accuracy: 0.977000\n"
     ]
    },
    {
     "name": "stderr",
     "output_type": "stream",
     "text": [
      "\r",
      "Epoch  7/10:  43%|██████████▋              | 6/14 [05:08<06:51, 51.42s/batches]"
     ]
    },
    {
     "name": "stdout",
     "output_type": "stream",
     "text": [
      "Loss:     0.0920 Validation Accuracy: 0.977000\n"
     ]
    },
    {
     "name": "stderr",
     "output_type": "stream",
     "text": [
      "\r",
      "Epoch  7/10:  50%|████████████▌            | 7/14 [05:41<05:41, 48.73s/batches]"
     ]
    },
    {
     "name": "stdout",
     "output_type": "stream",
     "text": [
      "Loss:     0.0909 Validation Accuracy: 0.977333\n"
     ]
    },
    {
     "name": "stderr",
     "output_type": "stream",
     "text": [
      "\r",
      "Epoch  7/10:  57%|██████████████▎          | 8/14 [06:16<04:42, 47.11s/batches]"
     ]
    },
    {
     "name": "stdout",
     "output_type": "stream",
     "text": [
      "Loss:     0.0784 Validation Accuracy: 0.978333\n"
     ]
    },
    {
     "name": "stderr",
     "output_type": "stream",
     "text": [
      "\r",
      "Epoch  7/10:  64%|████████████████         | 9/14 [06:51<03:48, 45.75s/batches]"
     ]
    },
    {
     "name": "stdout",
     "output_type": "stream",
     "text": [
      "Loss:     0.0910 Validation Accuracy: 0.978000\n"
     ]
    },
    {
     "name": "stderr",
     "output_type": "stream",
     "text": [
      "\r",
      "Epoch  7/10:  71%|█████████████████▏      | 10/14 [07:26<02:58, 44.65s/batches]"
     ]
    },
    {
     "name": "stdout",
     "output_type": "stream",
     "text": [
      "Loss:     0.0764 Validation Accuracy: 0.978000\n"
     ]
    },
    {
     "name": "stderr",
     "output_type": "stream",
     "text": [
      "\r",
      "Epoch  7/10:  79%|██████████████████▊     | 11/14 [09:51<02:41, 53.80s/batches]"
     ]
    },
    {
     "name": "stdout",
     "output_type": "stream",
     "text": [
      "Loss:     0.0909 Validation Accuracy: 0.980333\n"
     ]
    },
    {
     "name": "stderr",
     "output_type": "stream",
     "text": [
      "\r",
      "Epoch  7/10:  86%|████████████████████▌   | 12/14 [10:25<01:44, 52.13s/batches]"
     ]
    },
    {
     "name": "stdout",
     "output_type": "stream",
     "text": [
      "Loss:     0.0790 Validation Accuracy: 0.980333\n"
     ]
    },
    {
     "name": "stderr",
     "output_type": "stream",
     "text": [
      "\r",
      "Epoch  7/10:  93%|██████████████████████▎ | 13/14 [10:58<00:50, 50.63s/batches]"
     ]
    },
    {
     "name": "stdout",
     "output_type": "stream",
     "text": [
      "Loss:     0.0856 Validation Accuracy: 0.979000\n"
     ]
    },
    {
     "name": "stderr",
     "output_type": "stream",
     "text": [
      "Epoch  7/10: 100%|████████████████████████| 14/14 [11:29<00:00, 49.25s/batches]\n"
     ]
    },
    {
     "name": "stdout",
     "output_type": "stream",
     "text": [
      "Epoch: 7 cost = 0.00031\n",
      "Validation accuracy at 0.9789999723434448\n"
     ]
    },
    {
     "name": "stderr",
     "output_type": "stream",
     "text": [
      "\r",
      "Epoch  8/10:   0%|                                 | 0/14 [00:00<?, ?batches/s]"
     ]
    },
    {
     "name": "stdout",
     "output_type": "stream",
     "text": [
      "Loss:     0.0803 Validation Accuracy: 0.978333\n"
     ]
    },
    {
     "name": "stderr",
     "output_type": "stream",
     "text": [
      "\r",
      "Epoch  8/10:   7%|█▋                      | 1/14 [02:20<30:23, 140.25s/batches]"
     ]
    },
    {
     "name": "stdout",
     "output_type": "stream",
     "text": [
      "Loss:     0.0700 Validation Accuracy: 0.980000\n"
     ]
    },
    {
     "name": "stderr",
     "output_type": "stream",
     "text": [
      "\r",
      "Epoch  8/10:  14%|███▌                     | 2/14 [02:53<17:23, 86.94s/batches]"
     ]
    },
    {
     "name": "stdout",
     "output_type": "stream",
     "text": [
      "Loss:     0.0996 Validation Accuracy: 0.979333\n"
     ]
    },
    {
     "name": "stderr",
     "output_type": "stream",
     "text": [
      "\r",
      "Epoch  8/10:  21%|█████▎                   | 3/14 [03:27<12:39, 69.06s/batches]"
     ]
    },
    {
     "name": "stdout",
     "output_type": "stream",
     "text": [
      "Loss:     0.0868 Validation Accuracy: 0.980333\n"
     ]
    },
    {
     "name": "stderr",
     "output_type": "stream",
     "text": [
      "\r",
      "Epoch  8/10:  29%|███████▏                 | 4/14 [04:01<10:04, 60.47s/batches]"
     ]
    },
    {
     "name": "stdout",
     "output_type": "stream",
     "text": [
      "Loss:     0.0838 Validation Accuracy: 0.980000\n"
     ]
    },
    {
     "name": "stderr",
     "output_type": "stream",
     "text": [
      "\r",
      "Epoch  8/10:  36%|████████▉                | 5/14 [04:35<08:15, 55.04s/batches]"
     ]
    },
    {
     "name": "stdout",
     "output_type": "stream",
     "text": [
      "Loss:     0.0798 Validation Accuracy: 0.980000\n"
     ]
    },
    {
     "name": "stderr",
     "output_type": "stream",
     "text": [
      "\r",
      "Epoch  8/10:  43%|██████████▋              | 6/14 [05:09<06:52, 51.55s/batches]"
     ]
    },
    {
     "name": "stdout",
     "output_type": "stream",
     "text": [
      "Loss:     0.0813 Validation Accuracy: 0.979667\n"
     ]
    },
    {
     "name": "stderr",
     "output_type": "stream",
     "text": [
      "\r",
      "Epoch  8/10:  50%|████████████▌            | 7/14 [05:43<05:43, 49.04s/batches]"
     ]
    },
    {
     "name": "stdout",
     "output_type": "stream",
     "text": [
      "Loss:     0.0807 Validation Accuracy: 0.979333\n"
     ]
    },
    {
     "name": "stderr",
     "output_type": "stream",
     "text": [
      "\r",
      "Epoch  8/10:  57%|██████████████▎          | 8/14 [06:18<04:43, 47.25s/batches]"
     ]
    },
    {
     "name": "stdout",
     "output_type": "stream",
     "text": [
      "Loss:     0.0689 Validation Accuracy: 0.980000\n"
     ]
    },
    {
     "name": "stderr",
     "output_type": "stream",
     "text": [
      "\r",
      "Epoch  8/10:  64%|████████████████         | 9/14 [06:50<03:48, 45.65s/batches]"
     ]
    },
    {
     "name": "stdout",
     "output_type": "stream",
     "text": [
      "Loss:     0.0803 Validation Accuracy: 0.979333\n"
     ]
    },
    {
     "name": "stderr",
     "output_type": "stream",
     "text": [
      "\r",
      "Epoch  8/10:  71%|█████████████████▏      | 10/14 [07:24<02:57, 44.42s/batches]"
     ]
    },
    {
     "name": "stdout",
     "output_type": "stream",
     "text": [
      "Loss:     0.0667 Validation Accuracy: 0.980667\n"
     ]
    },
    {
     "name": "stderr",
     "output_type": "stream",
     "text": [
      "\r",
      "Epoch  8/10:  79%|██████████████████▊     | 11/14 [09:50<02:40, 53.64s/batches]"
     ]
    },
    {
     "name": "stdout",
     "output_type": "stream",
     "text": [
      "Loss:     0.0810 Validation Accuracy: 0.981667\n"
     ]
    },
    {
     "name": "stderr",
     "output_type": "stream",
     "text": [
      "\r",
      "Epoch  8/10:  86%|████████████████████▌   | 12/14 [10:26<01:44, 52.18s/batches]"
     ]
    },
    {
     "name": "stdout",
     "output_type": "stream",
     "text": [
      "Loss:     0.0695 Validation Accuracy: 0.982333\n"
     ]
    },
    {
     "name": "stderr",
     "output_type": "stream",
     "text": [
      "\r",
      "Epoch  8/10:  93%|██████████████████████▎ | 13/14 [11:00<00:50, 50.79s/batches]"
     ]
    },
    {
     "name": "stdout",
     "output_type": "stream",
     "text": [
      "Loss:     0.0762 Validation Accuracy: 0.981333\n"
     ]
    },
    {
     "name": "stderr",
     "output_type": "stream",
     "text": [
      "Epoch  8/10: 100%|████████████████████████| 14/14 [11:33<00:00, 49.56s/batches]\n"
     ]
    },
    {
     "name": "stdout",
     "output_type": "stream",
     "text": [
      "Epoch: 8 cost = 0.00028\n",
      "Validation accuracy at 0.981333315372467\n"
     ]
    },
    {
     "name": "stderr",
     "output_type": "stream",
     "text": [
      "\r",
      "Epoch  9/10:   0%|                                 | 0/14 [00:00<?, ?batches/s]"
     ]
    },
    {
     "name": "stdout",
     "output_type": "stream",
     "text": [
      "Loss:     0.0716 Validation Accuracy: 0.981000\n"
     ]
    },
    {
     "name": "stderr",
     "output_type": "stream",
     "text": [
      "\r",
      "Epoch  9/10:   7%|█▌                    | 1/14 [12:58<2:48:35, 778.10s/batches]"
     ]
    },
    {
     "name": "stdout",
     "output_type": "stream",
     "text": [
      "Loss:     0.0617 Validation Accuracy: 0.981667\n"
     ]
    },
    {
     "name": "stderr",
     "output_type": "stream",
     "text": [
      "\r",
      "Epoch  9/10:  14%|███▏                  | 2/14 [13:43<1:22:23, 411.99s/batches]"
     ]
    },
    {
     "name": "stdout",
     "output_type": "stream",
     "text": [
      "Loss:     0.0889 Validation Accuracy: 0.980333\n"
     ]
    },
    {
     "name": "stderr",
     "output_type": "stream",
     "text": [
      "\r",
      "Epoch  9/10:  21%|█████▏                  | 3/14 [14:28<53:02, 289.35s/batches]"
     ]
    },
    {
     "name": "stdout",
     "output_type": "stream",
     "text": [
      "Loss:     0.0786 Validation Accuracy: 0.981000\n"
     ]
    },
    {
     "name": "stderr",
     "output_type": "stream",
     "text": [
      "\r",
      "Epoch  9/10:  29%|██████▊                 | 4/14 [15:12<38:00, 228.01s/batches]"
     ]
    },
    {
     "name": "stdout",
     "output_type": "stream",
     "text": [
      "Loss:     0.0762 Validation Accuracy: 0.983333\n"
     ]
    },
    {
     "name": "stderr",
     "output_type": "stream",
     "text": [
      "\r",
      "Epoch  9/10:  36%|████████▌               | 5/14 [15:54<28:37, 190.81s/batches]"
     ]
    },
    {
     "name": "stdout",
     "output_type": "stream",
     "text": [
      "Loss:     0.0716 Validation Accuracy: 0.982667\n"
     ]
    },
    {
     "name": "stderr",
     "output_type": "stream",
     "text": [
      "\r",
      "Epoch  9/10:  43%|██████████▎             | 6/14 [16:37<22:09, 166.21s/batches]"
     ]
    },
    {
     "name": "stdout",
     "output_type": "stream",
     "text": [
      "Loss:     0.0733 Validation Accuracy: 0.981667\n"
     ]
    },
    {
     "name": "stderr",
     "output_type": "stream",
     "text": [
      "\r",
      "Epoch  9/10:  50%|████████████            | 7/14 [17:19<17:19, 148.56s/batches]"
     ]
    },
    {
     "name": "stdout",
     "output_type": "stream",
     "text": [
      "Loss:     0.0732 Validation Accuracy: 0.981333\n"
     ]
    },
    {
     "name": "stderr",
     "output_type": "stream",
     "text": [
      "\r",
      "Epoch  9/10:  57%|█████████████▋          | 8/14 [18:00<13:30, 135.11s/batches]"
     ]
    },
    {
     "name": "stdout",
     "output_type": "stream",
     "text": [
      "Loss:     0.0618 Validation Accuracy: 0.982000\n"
     ]
    },
    {
     "name": "stderr",
     "output_type": "stream",
     "text": [
      "\r",
      "Epoch  9/10:  64%|███████████████▍        | 9/14 [18:43<10:24, 124.86s/batches]"
     ]
    },
    {
     "name": "stdout",
     "output_type": "stream",
     "text": [
      "Loss:     0.0722 Validation Accuracy: 0.982667\n"
     ]
    },
    {
     "name": "stderr",
     "output_type": "stream",
     "text": [
      "\r",
      "Epoch  9/10:  71%|████████████████▍      | 10/14 [19:27<07:46, 116.72s/batches]"
     ]
    },
    {
     "name": "stdout",
     "output_type": "stream",
     "text": [
      "Loss:     0.0593 Validation Accuracy: 0.981667\n"
     ]
    },
    {
     "name": "stderr",
     "output_type": "stream",
     "text": [
      "\r",
      "Epoch  9/10:  79%|██████████████████     | 11/14 [22:35<06:09, 123.27s/batches]"
     ]
    },
    {
     "name": "stdout",
     "output_type": "stream",
     "text": [
      "Loss:     0.0736 Validation Accuracy: 0.983333\n"
     ]
    },
    {
     "name": "stderr",
     "output_type": "stream",
     "text": [
      "\r",
      "Epoch  9/10:  86%|███████████████████▋   | 12/14 [23:21<03:53, 116.78s/batches]"
     ]
    },
    {
     "name": "stdout",
     "output_type": "stream",
     "text": [
      "Loss:     0.0623 Validation Accuracy: 0.984667\n"
     ]
    },
    {
     "name": "stderr",
     "output_type": "stream",
     "text": [
      "\r",
      "Epoch  9/10:  93%|█████████████████████▎ | 13/14 [24:05<01:51, 111.16s/batches]"
     ]
    },
    {
     "name": "stdout",
     "output_type": "stream",
     "text": [
      "Loss:     0.0687 Validation Accuracy: 0.983667\n"
     ]
    },
    {
     "name": "stderr",
     "output_type": "stream",
     "text": [
      "Epoch  9/10: 100%|███████████████████████| 14/14 [24:44<00:00, 106.00s/batches]\n"
     ]
    },
    {
     "name": "stdout",
     "output_type": "stream",
     "text": [
      "Epoch: 9 cost = 0.00025\n",
      "Validation accuracy at 0.9836666584014893\n"
     ]
    },
    {
     "name": "stderr",
     "output_type": "stream",
     "text": [
      "\r",
      "Epoch 10/10:   0%|                                 | 0/14 [00:00<?, ?batches/s]"
     ]
    },
    {
     "name": "stdout",
     "output_type": "stream",
     "text": [
      "Loss:     0.0647 Validation Accuracy: 0.983333\n"
     ]
    },
    {
     "name": "stderr",
     "output_type": "stream",
     "text": [
      "\r",
      "Epoch 10/10:   7%|█▋                      | 1/14 [03:08<40:49, 188.43s/batches]"
     ]
    },
    {
     "name": "stdout",
     "output_type": "stream",
     "text": [
      "Loss:     0.0557 Validation Accuracy: 0.983000\n"
     ]
    },
    {
     "name": "stderr",
     "output_type": "stream",
     "text": [
      "\r",
      "Epoch 10/10:  14%|███▍                    | 2/14 [03:53<23:22, 116.85s/batches]"
     ]
    },
    {
     "name": "stdout",
     "output_type": "stream",
     "text": [
      "Loss:     0.0803 Validation Accuracy: 0.982667\n"
     ]
    },
    {
     "name": "stderr",
     "output_type": "stream",
     "text": [
      "\r",
      "Epoch 10/10:  21%|█████▎                   | 3/14 [04:38<17:01, 92.85s/batches]"
     ]
    },
    {
     "name": "stdout",
     "output_type": "stream",
     "text": [
      "Loss:     0.0717 Validation Accuracy: 0.983000\n"
     ]
    },
    {
     "name": "stderr",
     "output_type": "stream",
     "text": [
      "\r",
      "Epoch 10/10:  29%|███████▏                 | 4/14 [05:25<13:32, 81.26s/batches]"
     ]
    },
    {
     "name": "stdout",
     "output_type": "stream",
     "text": [
      "Loss:     0.0705 Validation Accuracy: 0.983667\n"
     ]
    },
    {
     "name": "stderr",
     "output_type": "stream",
     "text": [
      "\r",
      "Epoch 10/10:  36%|████████▉                | 5/14 [06:08<11:03, 73.74s/batches]"
     ]
    },
    {
     "name": "stdout",
     "output_type": "stream",
     "text": [
      "Loss:     0.0655 Validation Accuracy: 0.985333\n"
     ]
    },
    {
     "name": "stderr",
     "output_type": "stream",
     "text": [
      "\r",
      "Epoch 10/10:  43%|██████████▋              | 6/14 [06:53<09:11, 68.90s/batches]"
     ]
    },
    {
     "name": "stdout",
     "output_type": "stream",
     "text": [
      "Loss:     0.0666 Validation Accuracy: 0.985000\n"
     ]
    },
    {
     "name": "stderr",
     "output_type": "stream",
     "text": [
      "\r",
      "Epoch 10/10:  50%|████████████▌            | 7/14 [07:35<07:35, 65.01s/batches]"
     ]
    },
    {
     "name": "stdout",
     "output_type": "stream",
     "text": [
      "Loss:     0.0669 Validation Accuracy: 0.983333\n"
     ]
    },
    {
     "name": "stderr",
     "output_type": "stream",
     "text": [
      "\r",
      "Epoch 10/10:  57%|██████████████▎          | 8/14 [08:19<06:14, 62.40s/batches]"
     ]
    },
    {
     "name": "stdout",
     "output_type": "stream",
     "text": [
      "Loss:     0.0563 Validation Accuracy: 0.983000\n"
     ]
    },
    {
     "name": "stderr",
     "output_type": "stream",
     "text": [
      "\r",
      "Epoch 10/10:  64%|████████████████         | 9/14 [09:12<05:06, 61.33s/batches]"
     ]
    },
    {
     "name": "stdout",
     "output_type": "stream",
     "text": [
      "Loss:     0.0659 Validation Accuracy: 0.983667\n"
     ]
    },
    {
     "name": "stderr",
     "output_type": "stream",
     "text": [
      "\r",
      "Epoch 10/10:  71%|█████████████████▏      | 10/14 [10:01<04:00, 60.11s/batches]"
     ]
    },
    {
     "name": "stdout",
     "output_type": "stream",
     "text": [
      "Loss:     0.0532 Validation Accuracy: 0.983667\n"
     ]
    },
    {
     "name": "stderr",
     "output_type": "stream",
     "text": [
      "\r",
      "Epoch 10/10:  79%|██████████████████▊     | 11/14 [13:20<03:38, 72.80s/batches]"
     ]
    },
    {
     "name": "stdout",
     "output_type": "stream",
     "text": [
      "Loss:     0.0676 Validation Accuracy: 0.985000\n"
     ]
    },
    {
     "name": "stderr",
     "output_type": "stream",
     "text": [
      "\r",
      "Epoch 10/10:  86%|████████████████████▌   | 12/14 [14:10<02:21, 70.84s/batches]"
     ]
    },
    {
     "name": "stdout",
     "output_type": "stream",
     "text": [
      "Loss:     0.0565 Validation Accuracy: 0.985333\n"
     ]
    },
    {
     "name": "stderr",
     "output_type": "stream",
     "text": [
      "\r",
      "Epoch 10/10:  93%|██████████████████████▎ | 13/14 [14:53<01:08, 68.72s/batches]"
     ]
    },
    {
     "name": "stdout",
     "output_type": "stream",
     "text": [
      "Loss:     0.0629 Validation Accuracy: 0.985333\n"
     ]
    },
    {
     "name": "stderr",
     "output_type": "stream",
     "text": [
      "Epoch 10/10: 100%|████████████████████████| 14/14 [15:36<00:00, 66.90s/batches]\n"
     ]
    },
    {
     "name": "stdout",
     "output_type": "stream",
     "text": [
      "Epoch: 10 cost = 0.00023\n",
      "Validation accuracy at 0.9853333234786987\n"
     ]
    },
    {
     "data": {
      "image/png": "[encoded data removed]",
      "text/plain": [
       "<matplotlib.figure.Figure at 0x22e3391d940>"
      ]
     },
     "metadata": {},
     "output_type": "display_data"
    },
    {
     "name": "stdout",
     "output_type": "stream",
     "text": [
      "Validation accuracy at 0.9853333234786987\n"
     ]
    },
    {
     "data": {
      "text/plain": [
       "(10000, 28, 28, 1)"
      ]
     },
     "metadata": {},
     "output_type": "display_data"
    }
   ],
   "source": [
    "def cnn_main():\n",
    "    train_features, valid_features, train_labels, valid_labels, test_data, test_label = get_data()\n",
    "    train_features = train_features.reshape(train_features.shape[0], IMAGE_SIZE, IMAGE_SIZE, 1)\n",
    "    valid_features = valid_features.reshape(valid_features.shape[0], IMAGE_SIZE, IMAGE_SIZE, 1)\n",
    "    test_data = test_data.reshape(test_data.shape[0], IMAGE_SIZE, IMAGE_SIZE, 1)\n",
    "    train_model()\n",
    "    #train_features, train_labels, valid_features, valid_labels, test_data, test_label)\n",
    "    #data = test_data\n",
    "    return train_features, train_labels, valid_features, valid_labels, test_data, test_label\n",
    " \n",
    "train_features, train_labels, valid_features, valid_labels, test_data, test_label = cnn_main() \n",
    "display(test_data.shape)"
   ]
  },
  {
   "cell_type": "markdown",
   "metadata": {},
   "source": [
    "### Trained Model testing\n",
    "Following cell will do the testing of model which is saved after training, against test data.\n",
    "Also it will have a code to predict random image from test set.\n",
    "We can also test any image outside of mnist data set\n"
   ]
  },
  {
   "cell_type": "code",
   "execution_count": 37,
   "metadata": {},
   "outputs": [
    {
     "name": "stdout",
     "output_type": "stream",
     "text": [
      "INFO:tensorflow:Restoring parameters from ./cnn_digit_recognition\n",
      "Nice Job! Test Accuracy is 0.9828000068664551\n"
     ]
    }
   ],
   "source": [
    "test_model()"
   ]
  },
  {
   "cell_type": "code",
   "execution_count": 42,
   "metadata": {},
   "outputs": [
    {
     "name": "stdout",
     "output_type": "stream",
     "text": [
      "INFO:tensorflow:Restoring parameters from ./cnn_digit_recognition\n",
      "Test Accuracy is 0.9828000068664551\n",
      "INFO:tensorflow:Restoring parameters from ./cnn_digit_recognition\n",
      "num: 29\n"
     ]
    },
    {
     "data": {
      "image/png": "[encoded data removed]",
      "text/plain": [
       "<matplotlib.figure.Figure at 0x22e33b0d358>"
      ]
     },
     "metadata": {},
     "output_type": "display_data"
    },
    {
     "name": "stdout",
     "output_type": "stream",
     "text": [
      "Top 3 prediction :\n",
      "[[  9.92649765e+01   5.30385435e-01   7.12432787e-02]]% \n",
      "predicted value [[1 8 7]]\n"
     ]
    }
   ],
   "source": [
    "#### Call test function to test the accuracy of model against trained model\n",
    "test_model()\n",
    "### Call function to predict any random image from test data \n",
    "test_random_image(test_data)"
   ]
  },
  {
   "cell_type": "code",
   "execution_count": null,
   "metadata": {
    "collapsed": true
   },
   "outputs": [],
   "source": []
  }
 ],
 "metadata": {
  "kernelspec": {
   "display_name": "Python 3",
   "language": "python",
   "name": "python3"
  },
  "language_info": {
   "codemirror_mode": {
    "name": "ipython",
    "version": 3
   },
   "file_extension": ".py",
   "mimetype": "text/x-python",
   "name": "python",
   "nbconvert_exporter": "python",
   "pygments_lexer": "ipython3",
   "version": "3.6.3"
  }
 },
 "nbformat": 4,
 "nbformat_minor": 1
}
